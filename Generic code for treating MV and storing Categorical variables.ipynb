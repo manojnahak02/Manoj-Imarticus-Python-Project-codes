{
 "cells": [
  {
   "cell_type": "code",
   "execution_count": null,
   "metadata": {},
   "outputs": [],
   "source": [
    "df = df.replace(['?'],np.nan)\n",
    "df.isnull().sum()\n",
    "\n",
    "\n",
    "for x in ('c1','c2','c3'):\n",
    "    df[x].fillna(df[x].mode()[0], inplace = True)\n",
    "\n",
    "\n",
    "#generic code for replacing the missing values for Numeric and Chatagorical data\n",
    "for x in df.columns[:]:\n",
    "    if df[x].dtype=='object':\n",
    "        df[x].fillna(df[x].mode()[0],inplace=True)\n",
    "        \n",
    "    elif df[x].dtype in('int64','float64'):\n",
    "        df[x].fillna(df[x].mean(),inplace=True)\n",
    "        \n",
    "#generic code for getting catagoricals variable and storing them in a list\n",
    "colname=[]\n",
    "\n",
    "for x in df.columns[:]:\n",
    "    if df[x].dtype=='object':\n",
    "        colname.append(x)\n",
    "print(colname)\n",
    "\n"
   ]
  }
 ],
 "metadata": {
  "kernelspec": {
   "display_name": "Python 3",
   "language": "python",
   "name": "python3"
  },
  "language_info": {
   "codemirror_mode": {
    "name": "ipython",
    "version": 3
   },
   "file_extension": ".py",
   "mimetype": "text/x-python",
   "name": "python",
   "nbconvert_exporter": "python",
   "pygments_lexer": "ipython3",
   "version": "3.7.3"
  }
 },
 "nbformat": 4,
 "nbformat_minor": 2
}
