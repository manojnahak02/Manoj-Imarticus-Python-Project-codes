{
 "cells": [
  {
   "cell_type": "code",
   "execution_count": 8,
   "metadata": {},
   "outputs": [
    {
     "name": "stdout",
     "output_type": "stream",
     "text": [
      "Hello\n",
      "\n",
      "Value of a = \n",
      " 5\n",
      "Value of b = 3.2\n",
      "3.2 Hello\n",
      "3.2,Hello\n"
     ]
    }
   ],
   "source": [
    "a=5; d=10\n",
    "b,c= 3.2, \"Hello\"\n",
    "x = y = z = \"World\"\n",
    "\n",
    "print(c)\n",
    "print() #to enter blank line\n",
    "print(\"Value of a = \\n\", a) #/n to break the line\n",
    "print(\"Value of b =\",b)\n",
    "print(b,c)\n",
    "print(b,c,sep = \",\")\n"
   ]
  },
  {
   "cell_type": "code",
   "execution_count": null,
   "metadata": {},
   "outputs": [],
   "source": []
  },
  {
   "cell_type": "code",
   "execution_count": 3,
   "metadata": {},
   "outputs": [
    {
     "name": "stdout",
     "output_type": "stream",
     "text": [
      "0.3333333333333333\n",
      "0.33\n",
      "2\n",
      "1\n"
     ]
    }
   ],
   "source": [
    "#Division operation in python\n",
    "print(1/3)\n",
    "print(round(1/3,2))\n",
    "print(5//2) #floored division\n",
    "print(7%3) #to get remainder as output"
   ]
  },
  {
   "cell_type": "code",
   "execution_count": 2,
   "metadata": {},
   "outputs": [
    {
     "name": "stdout",
     "output_type": "stream",
     "text": [
      "<class 'float'>\n",
      "8.2\n",
      "53.2\n",
      "<class 'str'>\n"
     ]
    }
   ],
   "source": [
    "#python does type inferencing automatically\n",
    "a=5\n",
    "b=3.2\n",
    "print(type(b))\n",
    "print(a+b)\n",
    "a=\"5\"\n",
    "b=\"3.2\"\n",
    "print(a+b)\n",
    "print(type(b))"
   ]
  },
  {
   "cell_type": "code",
   "execution_count": 4,
   "metadata": {},
   "outputs": [
    {
     "name": "stdout",
     "output_type": "stream",
     "text": [
      "Enter your name: 4\n",
      "Hello  4\n"
     ]
    }
   ],
   "source": [
    "#user input\n",
    "\n",
    "name = input(\"Enter your name: \")\n",
    "print(\"Hello \", name)"
   ]
  },
  {
   "cell_type": "code",
   "execution_count": 2,
   "metadata": {},
   "outputs": [
    {
     "name": "stdout",
     "output_type": "stream",
     "text": [
      "Enter value of x:78\n",
      "Enter value of y:78\n",
      "x and y are equal\n",
      "Done\n"
     ]
    }
   ],
   "source": [
    "x=input(\"Enter value of x:\")\n",
    "y=input(\"Enter value of y:\")\n",
    "\n",
    "if x < y:\n",
    "    print(\"This is the first block\")\n",
    "    print(\"x is less than y\")\n",
    "\n",
    "elif x > y:\n",
    "    print('x is greater than y')\n",
    "else:\n",
    "    print('x and y are equal')\n",
    "print(\"Done\")"
   ]
  },
  {
   "cell_type": "code",
   "execution_count": 4,
   "metadata": {},
   "outputs": [
    {
     "name": "stdout",
     "output_type": "stream",
     "text": [
      "Value for X : 1.0\n",
      "Value for Y : 1.00\n",
      "x is less than y\n",
      "done\n"
     ]
    }
   ],
   "source": [
    "#nested if else example\n",
    "x = input(\"Value for X : \")\n",
    "y = input(\"Value for Y : \")\n",
    "if x == y:\n",
    "    print('x and y are equal')\n",
    "else:\n",
    "    if x < y:\n",
    "        print('x is less than y')\n",
    "    else:\n",
    "        print('x is greater than y')\n",
    "print('done')"
   ]
  },
  {
   "cell_type": "code",
   "execution_count": 11,
   "metadata": {},
   "outputs": [
    {
     "name": "stdout",
     "output_type": "stream",
     "text": [
      "Enter ratings from 1/2/3: 5\n",
      "Enter a correct number\n",
      "done\n"
     ]
    }
   ],
   "source": [
    "#switch case\n",
    "#type casting \"float\"\n",
    "choice = float(input(\"Enter ratings from 1/2/3: \"))\n",
    "choice = round(choice,0) #here 0 is used for decimal values\n",
    "if choice == 1:\n",
    "    print('What went wrong')\n",
    "elif choice == 2:\n",
    "    print(\"Good guess\")\n",
    "elif choice == 3:\n",
    "    print(\"Thank you\")\n",
    "else:\n",
    "    print(\"Enter a correct number\")\n",
    "print(\"done\")"
   ]
  },
  {
   "cell_type": "code",
   "execution_count": 13,
   "metadata": {},
   "outputs": [
    {
     "name": "stdout",
     "output_type": "stream",
     "text": [
      "x is a positive number\n"
     ]
    }
   ],
   "source": [
    "#Single if with multiple condition (and, or)\n",
    "x = 6 ; y = 8\n",
    "if(x > 7 and y > 7) or x!=y:\n",
    "    print(\"x is a positive number\")\n",
    "else:\n",
    "    print(\"cant say\")"
   ]
  },
  {
   "cell_type": "code",
   "execution_count": 18,
   "metadata": {},
   "outputs": [
    {
     "name": "stdout",
     "output_type": "stream",
     "text": [
      "Enter a number: 12\n",
      "Value is =  12.0\n"
     ]
    },
    {
     "data": {
      "text/plain": [
       "144.0"
      ]
     },
     "execution_count": 18,
     "metadata": {},
     "output_type": "execute_result"
    }
   ],
   "source": [
    "#User defined function\n",
    "def square(a): #defining the argument\n",
    "    print(\"Value is = \", a)\n",
    "    return a*a\n",
    "\n",
    "#now we will call the function\n",
    "value = float(input(\"Enter a number: \"))\n",
    "square(value) ##calling the function"
   ]
  },
  {
   "cell_type": "code",
   "execution_count": 20,
   "metadata": {},
   "outputs": [
    {
     "name": "stdout",
     "output_type": "stream",
     "text": [
      "0\n",
      "1\n",
      "2\n",
      "3\n",
      "4\n",
      "5\n",
      "6\n",
      "7\n",
      "count value reached  8\n"
     ]
    }
   ],
   "source": [
    "#3 things for conditional loop\n",
    "count = 0 #initialization\n",
    "while(count<8): #condition\n",
    "    print(count)\n",
    "    count +=1 #Increment / Decrement\n",
    "else:\n",
    "    print(\"count value reached \", count)"
   ]
  },
  {
   "cell_type": "code",
   "execution_count": 6,
   "metadata": {},
   "outputs": [
    {
     "name": "stdout",
     "output_type": "stream",
     "text": [
      "100 is an even number\n",
      "98 is an even number\n",
      "96 is an even number\n",
      "94 is an even number\n",
      "92 is an even number\n",
      "90 is an even number\n",
      "88 is an even number\n"
     ]
    }
   ],
   "source": [
    "a = 100 #initialization\n",
    "while(a>=88): #condition 1\n",
    "    if(a % 2 == 0):  ##condition 2\n",
    "        print(a, \"is an even number\")\n",
    "    a -=1  #decrement\n",
    "    #break(a == 70)"
   ]
  },
  {
   "cell_type": "code",
   "execution_count": 29,
   "metadata": {},
   "outputs": [
    {
     "name": "stdout",
     "output_type": "stream",
     "text": [
      "Happy Diwali, A\n",
      "Happy Diwali, B\n",
      "Happy Diwali, C\n",
      "Happy Diwali, 5.6\n"
     ]
    }
   ],
   "source": [
    "# [] list\n",
    "#\n",
    "friends = ['A', 'B', 'C', 5.6]\n",
    "for f in friends:\n",
    "    print('Happy Diwali,', f)"
   ]
  }
 ],
 "metadata": {
  "kernelspec": {
   "display_name": "Python 3",
   "language": "python",
   "name": "python3"
  },
  "language_info": {
   "codemirror_mode": {
    "name": "ipython",
    "version": 3
   },
   "file_extension": ".py",
   "mimetype": "text/x-python",
   "name": "python",
   "nbconvert_exporter": "python",
   "pygments_lexer": "ipython3",
   "version": "3.7.3"
  }
 },
 "nbformat": 4,
 "nbformat_minor": 2
}
