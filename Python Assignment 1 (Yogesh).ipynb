{
 "cells": [
  {
   "cell_type": "markdown",
   "metadata": {},
   "source": [
    "**1. Write a Python program which iterates the integers from 1 to 50. For multiples of 3 print \"Fizz\" instead of the number and for the multiples of 5 print \"Buzz\". For numbers which are multiples of both 3 and 5 print \"FizzBuzz\".**"
   ]
  },
  {
   "cell_type": "code",
   "execution_count": 1,
   "metadata": {
    "collapsed": true
   },
   "outputs": [
    {
     "name": "stdout",
     "output_type": "stream",
     "text": [
      "fizzbuzz\n",
      "1\n",
      "2\n",
      "fizz\n",
      "4\n",
      "buzz\n",
      "fizz\n",
      "7\n",
      "8\n",
      "fizz\n",
      "buzz\n",
      "11\n",
      "fizz\n",
      "13\n",
      "14\n",
      "fizzbuzz\n",
      "16\n",
      "17\n",
      "fizz\n",
      "19\n",
      "buzz\n",
      "fizz\n",
      "22\n",
      "23\n",
      "fizz\n",
      "buzz\n",
      "26\n",
      "fizz\n",
      "28\n",
      "29\n",
      "fizzbuzz\n",
      "31\n",
      "32\n",
      "fizz\n",
      "34\n",
      "buzz\n",
      "fizz\n",
      "37\n",
      "38\n",
      "fizz\n",
      "buzz\n",
      "41\n",
      "fizz\n",
      "43\n",
      "44\n",
      "fizzbuzz\n",
      "46\n",
      "47\n",
      "fizz\n",
      "49\n",
      "buzz\n"
     ]
    }
   ],
   "source": [
    "for fizzbuzz in range(51):\n",
    "    if fizzbuzz % 3 == 0 and fizzbuzz % 5 == 0:\n",
    "        print(\"fizzbuzz\")\n",
    "        continue\n",
    "    elif fizzbuzz % 3 == 0:\n",
    "        print(\"fizz\")\n",
    "        continue\n",
    "    elif fizzbuzz % 5 == 0:\n",
    "        print(\"buzz\")\n",
    "        continue\n",
    "    print(fizzbuzz)\n"
   ]
  },
  {
   "cell_type": "markdown",
   "metadata": {},
   "source": [
    "**2. Write a Python program to count the number of even and odd numbers from a tuple of numbers.**\n",
    "<br>\n",
    "numbers=(12,15,3,6,26,33,56,65,78,37,42,99)"
   ]
  },
  {
   "cell_type": "code",
   "execution_count": 2,
   "metadata": {},
   "outputs": [
    {
     "name": "stdout",
     "output_type": "stream",
     "text": [
      "Number of even numbers : 7\n",
      "Number of odd numbers : 5\n"
     ]
    }
   ],
   "source": [
    "numbers = (12,15,3,6,26,33,56,65,78,37,42,90) # Declaring the tuple\n",
    "count_odd = 0\n",
    "count_even = 0\n",
    "for x in numbers:\n",
    "        if not x % 2:\n",
    "    \t     count_even+=1\n",
    "        else:\n",
    "    \t     count_odd+=1\n",
    "print(\"Number of even numbers :\",count_even)\n",
    "print(\"Number of odd numbers :\",count_odd)\n"
   ]
  },
  {
   "cell_type": "markdown",
   "metadata": {},
   "source": [
    "**3. Take 5 integers from keyboard using a loop and print their average value on the screen.**"
   ]
  },
  {
   "cell_type": "code",
   "execution_count": 5,
   "metadata": {},
   "outputs": [
    {
     "name": "stdout",
     "output_type": "stream",
     "text": [
      "Input some integers to calculate their sum and average. Input 0 to exit.\n",
      "4\n",
      "5\n",
      "6\n",
      "7\n",
      "8\n",
      "Average and Sum of the above numbers are:  6.0\n"
     ]
    }
   ],
   "source": [
    "print(\"Input some integers to calculate their sum and average. Input 0 to exit.\")\n",
    "\n",
    "count = 0\n",
    "sum = 0.0\n",
    "#number = 1\n",
    "\n",
    "while count < 5:\n",
    "\tnumber = int(input(\"\"))\n",
    "\tsum = sum + number\n",
    "\tcount += 1\n",
    "\n",
    "if count == 0 :\n",
    "\tprint(\"Input some numbers\")\n",
    "else:\n",
    "\tprint(\"Average and Sum of the above numbers are: \", sum / (count))\n",
    "\t"
   ]
  },
  {
   "cell_type": "markdown",
   "metadata": {},
   "source": [
    "### **4. Following are the tuples of students who have enrolled for two courses. Find out those students who have enrolled for both the courses.**\n",
    "<br>\n",
    "course_A=('Anuj', 'Katrina', 'John', 'Jessica', 'Michael', 'Rahul', 'Khushboo')\n",
    "<br>\n",
    "course_B=('Bhavana', 'Katrina','Michael', 'Robert', 'Khushboo', 'Sachin' )"
   ]
  },
  {
   "cell_type": "code",
   "execution_count": 3,
   "metadata": {},
   "outputs": [
    {
     "name": "stdout",
     "output_type": "stream",
     "text": [
      "{'Michael', 'Katrina', 'Khushboo'}\n"
     ]
    }
   ],
   "source": [
    "course_A=('Anuj', 'Katrina', 'John', 'Jessica', 'Michael', 'Rahul', 'Khushboo')\n",
    "course_B=('Bhavana', 'Katrina','Michael', 'Robert', 'Khushboo', 'Sachin' )\n",
    "\n",
    "setA=set(course_A)\n",
    "setB=set(course_B)\n",
    "print(setA&setB)"
   ]
  },
  {
   "cell_type": "markdown",
   "metadata": {},
   "source": [
    "**5. Write a Python function to create and print a list where the values are square of numbers between 1 and 25 (both included).**"
   ]
  },
  {
   "cell_type": "code",
   "execution_count": 11,
   "metadata": {},
   "outputs": [
    {
     "name": "stdout",
     "output_type": "stream",
     "text": [
      "[1, 4, 9, 16, 25, 36, 49, 64, 81, 100, 121, 144, 169, 196, 225, 256, 289, 324, 361, 400, 441, 484, 529, 576, 625]\n"
     ]
    }
   ],
   "source": [
    "def printValues():\n",
    "    l = list()\n",
    "    for i in range(1,26):\n",
    "        l.append(i**2)\n",
    "    print(l)\n",
    "\n",
    "printValues()\n"
   ]
  },
  {
   "cell_type": "markdown",
   "metadata": {},
   "source": [
    "**6. Write a Pandas program to create a Series out of the given list and sort it in the descending order.**\n",
    "<br>\n",
    "data_list=['1000', 'spyder', 'python', 'jupyter', '400.78', 'anaconda']"
   ]
  },
  {
   "cell_type": "code",
   "execution_count": 9,
   "metadata": {},
   "outputs": [],
   "source": [
    "import numpy as np\n",
    "import pandas as pd"
   ]
  },
  {
   "cell_type": "code",
   "execution_count": 10,
   "metadata": {},
   "outputs": [
    {
     "name": "stdout",
     "output_type": "stream",
     "text": [
      "0        1000\n",
      "1      spyder\n",
      "2           a\n",
      "3      python\n",
      "4     jupyter\n",
      "5      400.78\n",
      "6    anaconda\n",
      "dtype: object\n"
     ]
    }
   ],
   "source": [
    "\n",
    "data = np.array(['1000', 'spyder','a', 'python', 'jupyter', '400.78', 'anaconda'])\n",
    "s = pd.Series(data) \n",
    "s.sort_values(ascending=False)\n",
    "print(s)"
   ]
  },
  {
   "cell_type": "markdown",
   "metadata": {},
   "source": [
    "**7. Create a series out of a range of values from 1 to 10. Ask the user to specify how many observations should be displayed and print that many observations from the series.**\n"
   ]
  },
  {
   "cell_type": "code",
   "execution_count": 23,
   "metadata": {},
   "outputs": [
    {
     "name": "stdout",
     "output_type": "stream",
     "text": [
      "how many observations should be displayed ?\n",
      "10\n",
      "0     1\n",
      "1     2\n",
      "2     3\n",
      "3     4\n",
      "4     5\n",
      "5     6\n",
      "6     7\n",
      "7     8\n",
      "8     9\n",
      "9    10\n",
      "dtype: int32\n"
     ]
    }
   ],
   "source": [
    "import numpy as np\n",
    "import pandas as pd\n",
    "data = np.array([1,2,3,4,5,6,7,8,9,10])\n",
    "s = pd.Series(data) \n",
    "# ob=0\n",
    "print(\"how many observations should be displayed ?\")\n",
    "ob= int(input())\n",
    "if ob>10:\n",
    "    print('You have entered incorrect no')\n",
    "else:\n",
    "    print(s[:ob])"
   ]
  },
  {
   "cell_type": "markdown",
   "metadata": {},
   "source": [
    "**8. Write a Pandas program to create the mean and standard deviation of the data of a given Series.**\n",
    "<br>\n",
    "data_list = [1,2,3,4,5,6,7,8,9,5,3]"
   ]
  },
  {
   "cell_type": "code",
   "execution_count": 25,
   "metadata": {},
   "outputs": [
    {
     "name": "stdout",
     "output_type": "stream",
     "text": [
      "mean is =  2.522624895547565\n",
      "standard deviation is =  1.0\n"
     ]
    }
   ],
   "source": [
    "data_list = [1,2,3,4,5,6,7,8,9,5,3]\n",
    "s = pd.Series(data_list)\n",
    "s.describe()\n",
    "result=s.describe()\n",
    "# print(result)\n",
    "print(\"mean is = \",result[2])\n",
    "print(\"standard deviation is = \",result[3])"
   ]
  },
  {
   "cell_type": "markdown",
   "metadata": {},
   "source": [
    "**9. Write a Pandas program to display a summary of the basic information about the DataFrame and its data.**\n",
    "<br>\n",
    "exam_data = {'name': ['Anuj', 'Bhavana', 'Katrina', 'John', 'Jessica', 'Michael', 'Robert', 'Rahul', 'Khushboo', 'Sachin'],\n",
    "'score': [12.5, 9, 16.5, 8, 9, 20, 14.5, 5, 8, 19],\n",
    "'attempts': [1, 3, 2, 3, 2, 3, 1, 1, 2, 1],\n",
    "'qualify': ['yes', 'no', 'yes', 'no', 'no', 'yes', 'yes', 'no', 'no', 'yes']}\n",
    "<br>\n",
    "labels = ['a', 'b', 'c', 'd', 'e', 'f', 'g', 'h', 'i', 'j']\n"
   ]
  },
  {
   "cell_type": "code",
   "execution_count": 10,
   "metadata": {},
   "outputs": [
    {
     "name": "stdout",
     "output_type": "stream",
     "text": [
      "       name  score  attempts qualify\n",
      "0      Anuj   12.5         1     yes\n",
      "1   Bhavana    9.0         3      no\n",
      "2   Katrina   16.5         2     yes\n",
      "3      John    8.0         3      no\n",
      "4   Jessica    9.0         2      no\n",
      "5   Michael   20.0         3     yes\n",
      "6    Robert   14.5         1     yes\n",
      "7     Rahul    5.0         1      no\n",
      "8  Khushboo    8.0         2      no\n",
      "9    Sachin   19.0         1     yes\n",
      "_______________________________________________-\n",
      "       name  score  attempts qualify\n",
      "a      Anuj   12.5         1     yes\n",
      "b   Bhavana    9.0         3      no\n",
      "c   Katrina   16.5         2     yes\n",
      "d      John    8.0         3      no\n",
      "e   Jessica    9.0         2      no\n",
      "f   Michael   20.0         3     yes\n",
      "g    Robert   14.5         1     yes\n",
      "h     Rahul    5.0         1      no\n",
      "i  Khushboo    8.0         2      no\n",
      "j    Sachin   19.0         1     yes\n",
      "<class 'pandas.core.frame.DataFrame'>\n",
      "Index: 10 entries, a to j\n",
      "Data columns (total 4 columns):\n",
      "name        10 non-null object\n",
      "score       10 non-null float64\n",
      "attempts    10 non-null int64\n",
      "qualify     10 non-null object\n",
      "dtypes: float64(1), int64(1), object(2)\n",
      "memory usage: 400.0+ bytes\n"
     ]
    }
   ],
   "source": [
    "import pandas as pd\n",
    "exam_data = {'name': ['Anuj', 'Bhavana', 'Katrina', 'John', 'Jessica', 'Michael', 'Robert', 'Rahul', 'Khushboo', 'Sachin'],\n",
    "             'score': [12.5, 9, 16.5, 8, 9, 20, 14.5, 5, 8, 19],\n",
    "             'attempts': [1, 3, 2, 3, 2, 3, 1, 1, 2, 1], \n",
    "             'qualify': ['yes', 'no', 'yes', 'no', 'no', 'yes', 'yes', 'no', 'no', 'yes']} \n",
    "\n",
    "labels = ['a', 'b', 'c', 'd', 'e', 'f', 'g', 'h', 'i', 'j']\n",
    "df=pd.DataFrame(exam_data) #convert into data frame \n",
    "print(df)\n",
    "print(\"_______________________________________________-\")\n",
    "df=pd.DataFrame(exam_data,index=labels) #assign index no, with specify row name \n",
    "print(df)\n",
    "df.info()\n"
   ]
  },
  {
   "cell_type": "markdown",
   "metadata": {},
   "source": [
    "10. Select 'name' and 'score' columns in rows 1, 3, 5, 6 from the above data frame.**\n"
   ]
  },
  {
   "cell_type": "code",
   "execution_count": 14,
   "metadata": {},
   "outputs": [
    {
     "ename": "NameError",
     "evalue": "name 'df' is not defined",
     "output_type": "error",
     "traceback": [
      "\u001b[1;31m---------------------------------------------------------------------------\u001b[0m",
      "\u001b[1;31mNameError\u001b[0m                                 Traceback (most recent call last)",
      "\u001b[1;32m<ipython-input-14-f86c066aa407>\u001b[0m in \u001b[0;36m<module>\u001b[1;34m\u001b[0m\n\u001b[1;32m----> 1\u001b[1;33m \u001b[0mprint\u001b[0m\u001b[1;33m(\u001b[0m\u001b[0mdf\u001b[0m\u001b[1;33m.\u001b[0m\u001b[0miloc\u001b[0m\u001b[1;33m[\u001b[0m\u001b[1;33m[\u001b[0m\u001b[1;36m1\u001b[0m\u001b[1;33m,\u001b[0m \u001b[1;36m3\u001b[0m\u001b[1;33m,\u001b[0m \u001b[1;36m5\u001b[0m\u001b[1;33m,\u001b[0m \u001b[1;36m6\u001b[0m\u001b[1;33m]\u001b[0m\u001b[1;33m,\u001b[0m \u001b[1;33m[\u001b[0m\u001b[1;36m0\u001b[0m\u001b[1;33m,\u001b[0m \u001b[1;36m1\u001b[0m\u001b[1;33m]\u001b[0m\u001b[1;33m]\u001b[0m\u001b[1;33m)\u001b[0m \u001b[1;31m#\u001b[0m\u001b[1;33m\u001b[0m\u001b[1;33m\u001b[0m\u001b[0m\n\u001b[0m",
      "\u001b[1;31mNameError\u001b[0m: name 'df' is not defined"
     ]
    }
   ],
   "source": [
    "print(df.iloc[[1, 3, 5, 6], [0, 1]]) #"
   ]
  },
  {
   "cell_type": "markdown",
   "metadata": {},
   "source": [
    "**11. Write a Pandas program to select the rows where the number of attempts in the examination is greater than 2 and still did not qualify.**\n"
   ]
  },
  {
   "cell_type": "code",
   "execution_count": 12,
   "metadata": {},
   "outputs": [
    {
     "name": "stdout",
     "output_type": "stream",
     "text": [
      "Rows where score between 15 and 20 (inclusive):\n",
      "      name  score  attempts qualify\n",
      "b  Bhavana    9.0         3      no\n",
      "d     John    8.0         3      no\n"
     ]
    }
   ],
   "source": [
    "print(\"Rows where score between 15 and 20 (inclusive):\")\n",
    "print(df[(df['attempts']>2) & (df['qualify'] == 'no')])"
   ]
  },
  {
   "cell_type": "markdown",
   "metadata": {},
   "source": [
    "**12. Write a Pandas program to change the score in row 'd' to 11.5.**"
   ]
  },
  {
   "cell_type": "code",
   "execution_count": 13,
   "metadata": {},
   "outputs": [
    {
     "name": "stdout",
     "output_type": "stream",
     "text": [
      "       name  score  attempts qualify\n",
      "a      Anuj   12.5         1     yes\n",
      "b   Bhavana    9.0         3      no\n",
      "c   Katrina   16.5         2     yes\n",
      "d      John   11.5         3      no\n",
      "e   Jessica    9.0         2      no\n",
      "f   Michael   20.0         3     yes\n",
      "g    Robert   14.5         1     yes\n",
      "h     Rahul    5.0         1      no\n",
      "i  Khushboo    8.0         2      no\n",
      "j    Sachin   19.0         1     yes\n"
     ]
    }
   ],
   "source": [
    "df.loc['d', 'score'] = 11.5\n",
    "print(df)"
   ]
  },
  {
   "cell_type": "markdown",
   "metadata": {},
   "source": [
    "**13. Write a Pandas program to change the name 'Jessica' to 'Suresh' in name column of the DataFrame.**"
   ]
  },
  {
   "cell_type": "code",
   "execution_count": 13,
   "metadata": {},
   "outputs": [
    {
     "name": "stdout",
     "output_type": "stream",
     "text": [
      "       name  score  attempts qualify\n",
      "a      Anuj   12.5         1     yes\n",
      "b   Bhavana    9.0         3      no\n",
      "c   Katrina   16.5         2     yes\n",
      "d      John   11.5         3      no\n",
      "e    Suresh    9.0         2      no\n",
      "f   Michael   20.0         3     yes\n",
      "g    Robert   14.5         1     yes\n",
      "h     Rahul    5.0         1      no\n",
      "i  Khushboo    8.0         2      no\n",
      "j    Sachin   19.0         1     yes\n"
     ]
    }
   ],
   "source": [
    "df.loc['e', 'name'] = \"Suresh\"\n",
    "print(df)"
   ]
  },
  {
   "cell_type": "markdown",
   "metadata": {},
   "source": [
    "**14. Write a Pandas program to delete the 'attempts' column from the DataFrame.**"
   ]
  },
  {
   "cell_type": "code",
   "execution_count": 14,
   "metadata": {},
   "outputs": [
    {
     "name": "stdout",
     "output_type": "stream",
     "text": [
      "       name  score qualify\n",
      "a      Anuj   12.5     yes\n",
      "b   Bhavana    9.0      no\n",
      "c   Katrina   16.5     yes\n",
      "d      John   11.5      no\n",
      "e    Suresh    9.0      no\n",
      "f   Michael   20.0     yes\n",
      "g    Robert   14.5     yes\n",
      "h     Rahul    5.0      no\n",
      "i  Khushboo    8.0      no\n",
      "j    Sachin   19.0     yes\n"
     ]
    }
   ],
   "source": [
    "del df['attempts'] #for multiple column pass as multiple value in list \n",
    "print(df)"
   ]
  },
  {
   "cell_type": "markdown",
   "metadata": {},
   "source": [
    "**15. Write a Pandas program to rearrange the columns of the dataframe. Follow the order:**\n",
    "Qualify, Name, Score\n"
   ]
  },
  {
   "cell_type": "code",
   "execution_count": 21,
   "metadata": {},
   "outputs": [
    {
     "data": {
      "text/html": [
       "<div>\n",
       "<style scoped>\n",
       "    .dataframe tbody tr th:only-of-type {\n",
       "        vertical-align: middle;\n",
       "    }\n",
       "\n",
       "    .dataframe tbody tr th {\n",
       "        vertical-align: top;\n",
       "    }\n",
       "\n",
       "    .dataframe thead th {\n",
       "        text-align: right;\n",
       "    }\n",
       "</style>\n",
       "<table border=\"1\" class=\"dataframe\">\n",
       "  <thead>\n",
       "    <tr style=\"text-align: right;\">\n",
       "      <th></th>\n",
       "      <th>qualify</th>\n",
       "      <th>name</th>\n",
       "      <th>score</th>\n",
       "    </tr>\n",
       "  </thead>\n",
       "  <tbody>\n",
       "    <tr>\n",
       "      <th>a</th>\n",
       "      <td>yes</td>\n",
       "      <td>Anuj</td>\n",
       "      <td>12.5</td>\n",
       "    </tr>\n",
       "    <tr>\n",
       "      <th>b</th>\n",
       "      <td>no</td>\n",
       "      <td>Bhavana</td>\n",
       "      <td>9.0</td>\n",
       "    </tr>\n",
       "    <tr>\n",
       "      <th>c</th>\n",
       "      <td>yes</td>\n",
       "      <td>Katrina</td>\n",
       "      <td>16.5</td>\n",
       "    </tr>\n",
       "    <tr>\n",
       "      <th>d</th>\n",
       "      <td>no</td>\n",
       "      <td>John</td>\n",
       "      <td>8.0</td>\n",
       "    </tr>\n",
       "    <tr>\n",
       "      <th>e</th>\n",
       "      <td>no</td>\n",
       "      <td>Jessica</td>\n",
       "      <td>9.0</td>\n",
       "    </tr>\n",
       "    <tr>\n",
       "      <th>f</th>\n",
       "      <td>yes</td>\n",
       "      <td>Michael</td>\n",
       "      <td>20.0</td>\n",
       "    </tr>\n",
       "    <tr>\n",
       "      <th>g</th>\n",
       "      <td>yes</td>\n",
       "      <td>Robert</td>\n",
       "      <td>14.5</td>\n",
       "    </tr>\n",
       "    <tr>\n",
       "      <th>h</th>\n",
       "      <td>no</td>\n",
       "      <td>Rahul</td>\n",
       "      <td>5.0</td>\n",
       "    </tr>\n",
       "    <tr>\n",
       "      <th>i</th>\n",
       "      <td>no</td>\n",
       "      <td>Khushboo</td>\n",
       "      <td>8.0</td>\n",
       "    </tr>\n",
       "    <tr>\n",
       "      <th>j</th>\n",
       "      <td>yes</td>\n",
       "      <td>Sachin</td>\n",
       "      <td>19.0</td>\n",
       "    </tr>\n",
       "  </tbody>\n",
       "</table>\n",
       "</div>"
      ],
      "text/plain": [
       "  qualify      name  score\n",
       "a     yes      Anuj   12.5\n",
       "b      no   Bhavana    9.0\n",
       "c     yes   Katrina   16.5\n",
       "d      no      John    8.0\n",
       "e      no   Jessica    9.0\n",
       "f     yes   Michael   20.0\n",
       "g     yes    Robert   14.5\n",
       "h      no     Rahul    5.0\n",
       "i      no  Khushboo    8.0\n",
       "j     yes    Sachin   19.0"
      ]
     },
     "execution_count": 21,
     "metadata": {},
     "output_type": "execute_result"
    }
   ],
   "source": [
    "df=df[['qualify',\"name\",\"score\"]]\n",
    "df"
   ]
  },
  {
   "cell_type": "code",
   "execution_count": null,
   "metadata": {},
   "outputs": [],
   "source": []
  }
 ],
 "metadata": {
  "kernelspec": {
   "display_name": "Python 3",
   "language": "python",
   "name": "python3"
  },
  "language_info": {
   "codemirror_mode": {
    "name": "ipython",
    "version": 3
   },
   "file_extension": ".py",
   "mimetype": "text/x-python",
   "name": "python",
   "nbconvert_exporter": "python",
   "pygments_lexer": "ipython3",
   "version": "3.7.3"
  }
 },
 "nbformat": 4,
 "nbformat_minor": 2
}
