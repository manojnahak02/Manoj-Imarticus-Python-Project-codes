{
 "cells": [
  {
   "cell_type": "code",
   "execution_count": 1,
   "metadata": {},
   "outputs": [
    {
     "data": {
      "text/plain": [
       "'1.16.2'"
      ]
     },
     "execution_count": 1,
     "metadata": {},
     "output_type": "execute_result"
    }
   ],
   "source": [
    "import numpy as np\n",
    "np.__version__   #attribute used to get the version of numpy"
   ]
  },
  {
   "cell_type": "code",
   "execution_count": 2,
   "metadata": {},
   "outputs": [
    {
     "name": "stdout",
     "output_type": "stream",
     "text": [
      "[1 2 3]\n",
      "<class 'numpy.ndarray'>\n",
      "1\n"
     ]
    }
   ],
   "source": [
    "a=np.array([1,2,3])\n",
    "print(a)\n",
    "print(type(a))\n",
    "print(a.ndim) #returns dimension of array"
   ]
  },
  {
   "cell_type": "code",
   "execution_count": 6,
   "metadata": {},
   "outputs": [
    {
     "name": "stdout",
     "output_type": "stream",
     "text": [
      "[[1 2 3]\n",
      " [4 5 6]\n",
      " [7 8 9]]\n",
      "2\n",
      "(3, 3)\n"
     ]
    }
   ],
   "source": [
    "a=np.array([(1,2,3),(4,5,6),(7,8,9)]) #list of tuples\n",
    "print(a)\n",
    "print(a.ndim)\n",
    "print(a.shape) #gives no of rows and columns"
   ]
  },
  {
   "cell_type": "code",
   "execution_count": 8,
   "metadata": {
    "collapsed": true
   },
   "outputs": [
    {
     "name": "stdout",
     "output_type": "stream",
     "text": [
      "[(1, 2, 3, 4) (4, 5, 6)]\n",
      "1\n"
     ]
    }
   ],
   "source": [
    "a=np.array([(1,2,3,4),(4,5,6)]) #unequal element\n",
    "print(a)\n",
    "print(a.ndim)"
   ]
  },
  {
   "cell_type": "code",
   "execution_count": 6,
   "metadata": {},
   "outputs": [
    {
     "name": "stdout",
     "output_type": "stream",
     "text": [
      "[[1. 1. 1. 1.]\n",
      " [1. 1. 1. 1.]\n",
      " [1. 1. 1. 1.]]\n",
      "\n"
     ]
    }
   ],
   "source": [
    "#ones function\n",
    "a,b=np.ones((2,3,4)) #2= no of arrays, 3 = no fo rows, 4= no of columns\n",
    "print(a)\n",
    "print()\n",
    "#print(b)"
   ]
  },
  {
   "cell_type": "code",
   "execution_count": 17,
   "metadata": {},
   "outputs": [
    {
     "name": "stdout",
     "output_type": "stream",
     "text": [
      "[[0 0 0 0]\n",
      " [0 0 0 0]\n",
      " [0 0 0 0]]\n",
      "\n",
      "[[0 0 0 0]\n",
      " [0 0 0 0]\n",
      " [0 0 0 0]]\n"
     ]
    }
   ],
   "source": [
    "a,b=np.zeros((2,3,4), dtype = np.int)\n",
    "print(a)\n",
    "print()\n",
    "print(b)"
   ]
  },
  {
   "cell_type": "code",
   "execution_count": 13,
   "metadata": {},
   "outputs": [
    {
     "name": "stdout",
     "output_type": "stream",
     "text": [
      "[[9 9 9]\n",
      " [9 9 9]\n",
      " [9 9 9]\n",
      " [9 9 9]]\n",
      "\n",
      "[[9 9 9]\n",
      " [9 9 9]\n",
      " [9 9 9]\n",
      " [9 9 9]]\n"
     ]
    }
   ],
   "source": [
    "c,d=np.full((2,4,3),9)\n",
    "print(c)\n",
    "print()\n",
    "print(d)"
   ]
  },
  {
   "cell_type": "code",
   "execution_count": 15,
   "metadata": {},
   "outputs": [
    {
     "name": "stdout",
     "output_type": "stream",
     "text": [
      "[[1 0 0]\n",
      " [0 1 0]\n",
      " [0 0 1]]\n"
     ]
    }
   ],
   "source": [
    "a=np.identity(3,dtype=np.int) #diagnol values will be 1\n",
    "print(a)"
   ]
  },
  {
   "cell_type": "code",
   "execution_count": 7,
   "metadata": {},
   "outputs": [
    {
     "name": "stdout",
     "output_type": "stream",
     "text": [
      "[[58 51 58 58]\n",
      " [62 65 69 65]\n",
      " [58 59 60 68]]\n"
     ]
    }
   ],
   "source": [
    "a=np.random.random((5,2)) #np = parent package, random = sub package, random (function)\n",
    "#print(a)\n",
    "#a=np.random.random_integers(50,100,(3,4))\n",
    "a=np.random.randint(50,70,(3,4))\n",
    "print(a)"
   ]
  },
  {
   "cell_type": "code",
   "execution_count": null,
   "metadata": {},
   "outputs": [],
   "source": [
    "#array matrix\n",
    "R = int(input(\"Enter the number of rows:\")) \n",
    "C = int(input(\"Enter the number of columns:\")) \n",
    "\n",
    "#matrix=[]\n",
    "# Initialize matrix \n",
    "print(\"Enter the entries rowwise:\") \n",
    "  \n",
    "# For user input \n",
    "for i in range(R):          # A for loop for row entries \n",
    "    a =[]\n",
    "    for j in range(C):      # A for loop for column entries \n",
    "         a.append(int(input())) \n",
    "    matrix.append(a) \n",
    "  \n",
    "# For printing the matrix \n",
    "for i in range(R): \n",
    "    for j in range(C): \n",
    "        print(matrix[i][j], end = \" \") \n",
    "    print()"
   ]
  },
  {
   "cell_type": "code",
   "execution_count": 13,
   "metadata": {},
   "outputs": [
    {
     "name": "stdout",
     "output_type": "stream",
     "text": [
      "[[1 2 3 4]\n",
      " [4 5 6 7]]\n",
      "8\n",
      "(2, 4)\n"
     ]
    }
   ],
   "source": [
    "a=np.array([(1,2,3,4),(4,5,6,7)])\n",
    "print(a)\n",
    "print(a.size) # will give the total no of elements in array\n",
    "print(a.shape)"
   ]
  },
  {
   "cell_type": "code",
   "execution_count": 17,
   "metadata": {},
   "outputs": [
    {
     "name": "stdout",
     "output_type": "stream",
     "text": [
      "[[1 2 3 4 4 5]\n",
      " [6 7 1 2 3 4]\n",
      " [4 5 6 7 1 2]]\n"
     ]
    }
   ],
   "source": [
    "#a=np.resize(a,(6,3)) #can shrink or enlarge the size of array\n",
    "a=np.reshape(a,(3,6)) #reshape will hold the exact elemnts of array and change the shape\n",
    "print(a)"
   ]
  },
  {
   "cell_type": "code",
   "execution_count": 53,
   "metadata": {},
   "outputs": [
    {
     "name": "stdout",
     "output_type": "stream",
     "text": [
      "[[ 1  2  3  4]\n",
      " [ 3  4  5  6]\n",
      " [ 8  9 10 11]]\n",
      "3\n",
      "[ 3  5 10]\n",
      "\n",
      "[[1 2 3 4]\n",
      " [3 4 5 6]]\n",
      "\n",
      "[[1 2 3 4]\n",
      " [3 4 5 6]]\n"
     ]
    }
   ],
   "source": [
    "#indexing and slicing\n",
    "a=np.array([(1,2,3,4),(3,4,5,6),(8,9,10,11)])\n",
    "print(a)\n",
    "\n",
    "print(a[0,2]) #will give first row third element\n",
    "print(a[:,2]) #will give all rows and third column\n",
    "print()\n",
    "print(a[0:2,:]) #will give the first two rows and all columns\n",
    "#creating a new array (subset of array)\n",
    "print()\n",
    "b=(a[0:2,:])\n",
    "print(b)"
   ]
  },
  {
   "cell_type": "code",
   "execution_count": 23,
   "metadata": {},
   "outputs": [
    {
     "name": "stdout",
     "output_type": "stream",
     "text": [
      "[ 0  5 10 15 20]\n",
      "\n",
      "[100  98  96  94  92  90  88  86  84  82  80  78  76  74  72  70]\n"
     ]
    }
   ],
   "source": [
    "#a=np.linspace(1,10,4)\n",
    "#print(a)\n",
    "\n",
    "a=np.arange(0,25,5)\n",
    "print(a)\n",
    "print()\n",
    "#even no from 100 to 70\n",
    "a=np.arange(100,69,-2)\n",
    "print(a)"
   ]
  },
  {
   "cell_type": "code",
   "execution_count": 69,
   "metadata": {},
   "outputs": [
    {
     "name": "stdout",
     "output_type": "stream",
     "text": [
      "3\n",
      "6\n",
      "8\n",
      "13\n",
      "63\n",
      "10.5\n",
      "10.5\n"
     ]
    }
   ],
   "source": [
    "#aggregate functions\n",
    "a=np.array([(8,9),(10,11),(12,13)])\n",
    "print(len(a)) #will give the count of tuples from array\n",
    "print(a.size) #will give th count of all elements from array\n",
    "print(a.min())\n",
    "print(a.max())\n",
    "print(a.sum())\n",
    "print(a.sum()/a.size)\n",
    "print(a.mean())\n"
   ]
  },
  {
   "cell_type": "code",
   "execution_count": 24,
   "metadata": {},
   "outputs": [
    {
     "name": "stdout",
     "output_type": "stream",
     "text": [
      "[[1. 0. 2.]\n",
      " [3. 4. 5.]]\n",
      "8.89600409672168\n",
      "[[0.               -inf 1.38629436]\n",
      " [2.19722458 2.77258872 3.21887582]]\n",
      "[[1. 0. 2.]\n",
      " [3. 4. 5.]]\n"
     ]
    },
    {
     "name": "stderr",
     "output_type": "stream",
     "text": [
      "C:\\ProgramData\\Anaconda3\\lib\\site-packages\\ipykernel_launcher.py:6: RuntimeWarning: divide by zero encountered in log\n",
      "  \n"
     ]
    }
   ],
   "source": [
    "#math function\n",
    "a=np.array([(1,0,4),(9,16,25)])\n",
    "\n",
    "print(np.sqrt(a))\n",
    "print(np.std(a)) #standard deviation\n",
    "print(np.log(a))\n",
    "b=np.sqrt(a) #antilog\n",
    "print(b.round(2))"
   ]
  },
  {
   "cell_type": "code",
   "execution_count": 73,
   "metadata": {},
   "outputs": [
    {
     "name": "stdout",
     "output_type": "stream",
     "text": [
      "[[1 2]\n",
      " [3 4]]\n",
      "[[5 6]\n",
      " [3 4]]\n",
      "[[6 8]\n",
      " [6 8]]\n",
      "[[-4 -4]\n",
      " [ 0  0]]\n",
      "[[ 5 12]\n",
      " [ 9 16]]\n",
      "[[0.2        0.33333333]\n",
      " [1.         1.        ]]\n",
      "[[1 2]\n",
      " [0 0]]\n",
      "[[11 14]\n",
      " [27 34]]\n"
     ]
    }
   ],
   "source": [
    "x= np.array([(1,2),(3,4)])\n",
    "y= np.array([(5,6),(3,4)])\n",
    "print(x)\n",
    "print(y)\n",
    "print(x+y)\n",
    "print(x-y)\n",
    "print(x*y)\n",
    "print(x/y)\n",
    "print(x%y)\n",
    "#print(np.remainder())\n",
    "\n",
    "print(x@y) #for dot matrix\n",
    "#print(np.dot(x,y))"
   ]
  },
  {
   "cell_type": "code",
   "execution_count": 25,
   "metadata": {},
   "outputs": [
    {
     "ename": "TypeError",
     "evalue": "'NoneType' object is not iterable",
     "output_type": "error",
     "traceback": [
      "\u001b[1;31m---------------------------------------------------------------------------\u001b[0m",
      "\u001b[1;31mTypeError\u001b[0m                                 Traceback (most recent call last)",
      "\u001b[1;32m<ipython-input-25-7c207d3f27c0>\u001b[0m in \u001b[0;36m<module>\u001b[1;34m\u001b[0m\n\u001b[0;32m      1\u001b[0m \u001b[1;31m#help\u001b[0m\u001b[1;33m\u001b[0m\u001b[1;33m\u001b[0m\u001b[1;33m\u001b[0m\u001b[0m\n\u001b[0;32m      2\u001b[0m \u001b[1;31m#?np.mean\u001b[0m\u001b[1;33m\u001b[0m\u001b[1;33m\u001b[0m\u001b[1;33m\u001b[0m\u001b[0m\n\u001b[1;32m----> 3\u001b[1;33m \u001b[0mprint\u001b[0m\u001b[1;33m(\u001b[0m\u001b[0mnp\u001b[0m\u001b[1;33m.\u001b[0m\u001b[0mlookfor\u001b[0m\u001b[1;33m(\u001b[0m\u001b[1;34m\"mean\"\u001b[0m\u001b[1;33m)\u001b[0m\u001b[1;33m)\u001b[0m\u001b[1;33m\u001b[0m\u001b[1;33m\u001b[0m\u001b[0m\n\u001b[0m\u001b[0;32m      4\u001b[0m \u001b[1;31m#help(np.zeros)\u001b[0m\u001b[1;33m\u001b[0m\u001b[1;33m\u001b[0m\u001b[1;33m\u001b[0m\u001b[0m\n",
      "\u001b[1;32mC:\\ProgramData\\Anaconda3\\lib\\site-packages\\numpy\\lib\\utils.py\u001b[0m in \u001b[0;36mlookfor\u001b[1;34m(what, module, import_modules, regenerate, output)\u001b[0m\n\u001b[0;32m    749\u001b[0m \u001b[1;33m\u001b[0m\u001b[0m\n\u001b[0;32m    750\u001b[0m     \u001b[1;31m# Cache\u001b[0m\u001b[1;33m\u001b[0m\u001b[1;33m\u001b[0m\u001b[1;33m\u001b[0m\u001b[0m\n\u001b[1;32m--> 751\u001b[1;33m     \u001b[0mcache\u001b[0m \u001b[1;33m=\u001b[0m \u001b[0m_lookfor_generate_cache\u001b[0m\u001b[1;33m(\u001b[0m\u001b[0mmodule\u001b[0m\u001b[1;33m,\u001b[0m \u001b[0mimport_modules\u001b[0m\u001b[1;33m,\u001b[0m \u001b[0mregenerate\u001b[0m\u001b[1;33m)\u001b[0m\u001b[1;33m\u001b[0m\u001b[1;33m\u001b[0m\u001b[0m\n\u001b[0m\u001b[0;32m    752\u001b[0m \u001b[1;33m\u001b[0m\u001b[0m\n\u001b[0;32m    753\u001b[0m     \u001b[1;31m# Search\u001b[0m\u001b[1;33m\u001b[0m\u001b[1;33m\u001b[0m\u001b[1;33m\u001b[0m\u001b[0m\n",
      "\u001b[1;32mC:\\ProgramData\\Anaconda3\\lib\\site-packages\\numpy\\lib\\utils.py\u001b[0m in \u001b[0;36m_lookfor_generate_cache\u001b[1;34m(module, import_modules, regenerate)\u001b[0m\n\u001b[0;32m    901\u001b[0m             \u001b[1;31m# import sub-packages\u001b[0m\u001b[1;33m\u001b[0m\u001b[1;33m\u001b[0m\u001b[1;33m\u001b[0m\u001b[0m\n\u001b[0;32m    902\u001b[0m             \u001b[1;32mif\u001b[0m \u001b[0mimport_modules\u001b[0m \u001b[1;32mand\u001b[0m \u001b[0mhasattr\u001b[0m\u001b[1;33m(\u001b[0m\u001b[0mitem\u001b[0m\u001b[1;33m,\u001b[0m \u001b[1;34m'__path__'\u001b[0m\u001b[1;33m)\u001b[0m\u001b[1;33m:\u001b[0m\u001b[1;33m\u001b[0m\u001b[1;33m\u001b[0m\u001b[0m\n\u001b[1;32m--> 903\u001b[1;33m                 \u001b[1;32mfor\u001b[0m \u001b[0mpth\u001b[0m \u001b[1;32min\u001b[0m \u001b[0mitem\u001b[0m\u001b[1;33m.\u001b[0m\u001b[0m__path__\u001b[0m\u001b[1;33m:\u001b[0m\u001b[1;33m\u001b[0m\u001b[1;33m\u001b[0m\u001b[0m\n\u001b[0m\u001b[0;32m    904\u001b[0m                     \u001b[1;32mfor\u001b[0m \u001b[0mmod_path\u001b[0m \u001b[1;32min\u001b[0m \u001b[0mos\u001b[0m\u001b[1;33m.\u001b[0m\u001b[0mlistdir\u001b[0m\u001b[1;33m(\u001b[0m\u001b[0mpth\u001b[0m\u001b[1;33m)\u001b[0m\u001b[1;33m:\u001b[0m\u001b[1;33m\u001b[0m\u001b[1;33m\u001b[0m\u001b[0m\n\u001b[0;32m    905\u001b[0m                         \u001b[0mthis_py\u001b[0m \u001b[1;33m=\u001b[0m \u001b[0mos\u001b[0m\u001b[1;33m.\u001b[0m\u001b[0mpath\u001b[0m\u001b[1;33m.\u001b[0m\u001b[0mjoin\u001b[0m\u001b[1;33m(\u001b[0m\u001b[0mpth\u001b[0m\u001b[1;33m,\u001b[0m \u001b[0mmod_path\u001b[0m\u001b[1;33m)\u001b[0m\u001b[1;33m\u001b[0m\u001b[1;33m\u001b[0m\u001b[0m\n",
      "\u001b[1;31mTypeError\u001b[0m: 'NoneType' object is not iterable"
     ]
    }
   ],
   "source": [
    "#help\n",
    "#?np.mean\n",
    "print(np.lookfor(\"mean\"))\n",
    "#help(np.zeros)"
   ]
  },
  {
   "cell_type": "code",
   "execution_count": 83,
   "metadata": {
    "scrolled": true
   },
   "outputs": [
    {
     "name": "stdout",
     "output_type": "stream",
     "text": [
      "[[1 2]\n",
      " [3 4]\n",
      " [5 6]\n",
      " [3 4]]\n",
      "[[1 2 5 6]\n",
      " [3 4 3 4]]\n",
      "\n",
      "[[1 2]\n",
      " [3 4]\n",
      " [5 6]\n",
      " [3 4]]\n",
      "[[1 2 5 6]\n",
      " [3 4 3 4]]\n"
     ]
    }
   ],
   "source": [
    "#joining arrays\n",
    "d=np.concatenate((x,y),axis=0) #axis = 0 rowwise concatenate and 1 for columwise concatenate\n",
    "e=np.concatenate((x,y),axis=1)\n",
    "print(d)\n",
    "print(e)\n",
    "print()\n",
    "\n",
    "#or\n",
    "\n",
    "print(np.vstack((x,y))) #rowwise concatenate\n",
    "print(np.hstack((x,y))) #column wise concatenate"
   ]
  },
  {
   "cell_type": "code",
   "execution_count": 84,
   "metadata": {},
   "outputs": [
    {
     "name": "stdout",
     "output_type": "stream",
     "text": [
      "[[1 2]\n",
      " [3 4]]\n",
      "[1 2 3 4]\n",
      "[[1 2]\n",
      " [3 4]]\n"
     ]
    }
   ],
   "source": [
    "#converting array into single row\n",
    "print(x)\n",
    "z=x.ravel() #converting 2 dim arry to 1 dim array, it will be flattening the array\n",
    "print(z)\n",
    "print(z.reshape(2,2)) #converting 1 dim array to 2 dim array"
   ]
  },
  {
   "cell_type": "code",
   "execution_count": 33,
   "metadata": {},
   "outputs": [
    {
     "name": "stdout",
     "output_type": "stream",
     "text": [
      "[[1 2 3]\n",
      " [4 5 6]] \n",
      "\n",
      "[[ 6  7]\n",
      " [ 9 10]] \n",
      "\n",
      "[ 1  2  3  4  5  6  6  7  9 10] \n",
      "\n",
      "[[ 1  2  3  4  5]\n",
      " [ 6  6  7  9 10]]\n"
     ]
    }
   ],
   "source": [
    "#joining the array when there is diff dimension array use 'append'\n",
    "x = np.array([(1,2,3),(4,5,6)])\n",
    "y = np.array([(6,7),(9,10)])\n",
    "new_array = np.append(x,y)\n",
    "print(x,'\\n')\n",
    "print(y,'\\n')\n",
    "print(new_array,'\\n')\n",
    "new_array = np.reshape(new_array,(2,5))\n",
    "print(new_array)"
   ]
  },
  {
   "cell_type": "code",
   "execution_count": 35,
   "metadata": {},
   "outputs": [
    {
     "name": "stdout",
     "output_type": "stream",
     "text": [
      "[  1 500   2   3 700   3   4   5]\n",
      "[[1 2 3]\n",
      " [3 4 5]]\n"
     ]
    }
   ],
   "source": [
    "#adding elements inbetween the arrays\n",
    "x=np.array([(1,2,3),(3,4,5)])\n",
    "new_array=np.insert(x,[1,3],[500,700]) #insert(varaible,[index no],[value need to be insert])\n",
    "print(new_array)\n",
    "print(x)"
   ]
  },
  {
   "cell_type": "code",
   "execution_count": 91,
   "metadata": {},
   "outputs": [
    {
     "name": "stdout",
     "output_type": "stream",
     "text": [
      "[ 1  3 10  3  4  5]\n"
     ]
    }
   ],
   "source": [
    "#deleting elements from array\n",
    "new_array = np.delete(new_array,[1,2]) #deleting values from index no 1 and 2\n",
    "print(new_array)"
   ]
  },
  {
   "cell_type": "code",
   "execution_count": 93,
   "metadata": {},
   "outputs": [
    {
     "name": "stdout",
     "output_type": "stream",
     "text": [
      "[[1 2 3]\n",
      " [4 5 6]]\n",
      "\n",
      "[[1 7 3]\n",
      " [4 5 6]]\n"
     ]
    }
   ],
   "source": [
    "#updating an array\n",
    "x=np.array([(1,2,3),(4,5,6)])\n",
    "print(x)\n",
    "print()\n",
    "x[0,1]=7\n",
    "print(x)"
   ]
  },
  {
   "cell_type": "code",
   "execution_count": 37,
   "metadata": {},
   "outputs": [
    {
     "name": "stdout",
     "output_type": "stream",
     "text": [
      "[[  1   4   7]\n",
      " [  2 500   8]\n",
      " [  3   6   9]]\n"
     ]
    }
   ],
   "source": [
    "my_array2 = np.genfromtxt(r'C:\\Users\\Manoj Nahak\\Desktop\\array_data.txt',\n",
    "                          skip_header=1, delimiter=',',filling_values=0,unpack=True,dtype=np.int)\n",
    "#r is used to specify the path as string\n",
    "#skip header to exclude reading the column names\n",
    "#filling values to treat the missing values\n",
    "#unpack = True will transpose the order of elements in columnwise\n",
    "print(my_array2)"
   ]
  },
  {
   "cell_type": "code",
   "execution_count": 38,
   "metadata": {},
   "outputs": [
    {
     "data": {
      "text/plain": [
       "array([[1, 4, 7],\n",
       "       [2, 5, 8],\n",
       "       [3, 6, 9]])"
      ]
     },
     "execution_count": 38,
     "metadata": {},
     "output_type": "execute_result"
    }
   ],
   "source": [
    "#updating an array element from value 500 to 5\n",
    "my_array2[1,1]=5\n",
    "my_array2"
   ]
  }
 ],
 "metadata": {
  "kernelspec": {
   "display_name": "Python 3",
   "language": "python",
   "name": "python3"
  },
  "language_info": {
   "codemirror_mode": {
    "name": "ipython",
    "version": 3
   },
   "file_extension": ".py",
   "mimetype": "text/x-python",
   "name": "python",
   "nbconvert_exporter": "python",
   "pygments_lexer": "ipython3",
   "version": "3.7.3"
  }
 },
 "nbformat": 4,
 "nbformat_minor": 2
}
