{
 "cells": [
  {
   "cell_type": "code",
   "execution_count": 16,
   "metadata": {},
   "outputs": [],
   "source": [
    "import numpy as np"
   ]
  },
  {
   "cell_type": "markdown",
   "metadata": {},
   "source": [
    "**1. Write a Python program which iterates the integers from 1 to 30. For multiples of 3 print \"Fizz\" instead of the number and for the multiples of 5 print \"Buzz\". For numbers which are multiples of both 3 and 5 print \"FizzBuzz\".**"
   ]
  },
  {
   "cell_type": "code",
   "execution_count": 2,
   "metadata": {},
   "outputs": [
    {
     "name": "stdout",
     "output_type": "stream",
     "text": [
      "1\n",
      "2\n",
      " Fizz\n",
      "4\n",
      " Buzz\n",
      " Fizz\n",
      "7\n",
      "8\n",
      " Fizz\n",
      " Buzz\n",
      "11\n",
      " Fizz\n",
      "13\n",
      "14\n",
      " FizzBuzz\n",
      "16\n",
      "17\n",
      " Fizz\n",
      "19\n",
      " Buzz\n",
      " Fizz\n",
      "22\n",
      "23\n",
      " Fizz\n",
      " Buzz\n",
      "26\n",
      " Fizz\n",
      "28\n",
      "29\n",
      " FizzBuzz\n",
      "Done\n"
     ]
    }
   ],
   "source": [
    "num=1\n",
    "while(num<=30):\n",
    "    if((num%3==0) & (num%5==0)):\n",
    "        print(\" FizzBuzz\")\n",
    "    elif(num%3==0):\n",
    "        print(\" Fizz\")\n",
    "    elif(num%5==0):\n",
    "        print(\" Buzz\")\n",
    "    else:\n",
    "        print(num)\n",
    "    num+=1\n",
    "print(\"Done\")"
   ]
  },
  {
   "cell_type": "markdown",
   "metadata": {},
   "source": [
    "**2. Write a Python program to count the number of even and odd numbers from a tuple of numbers.**\n",
    "<br>\n",
    "numbers=(12,15,3,6,26,33,56,65,78,37,42,99)"
   ]
  },
  {
   "cell_type": "code",
   "execution_count": 5,
   "metadata": {},
   "outputs": [
    {
     "name": "stdout",
     "output_type": "stream",
     "text": [
      "Even count 7\n",
      "Odd count 5\n"
     ]
    }
   ],
   "source": [
    "num=(12,15,3,6,26,33,56,65,78,37,42,90)\n",
    "even=0\n",
    "odd=0\n",
    "for i in num:\n",
    "    if not i % 2:\n",
    "        even+=1\n",
    "    else:\n",
    "        odd+=1\n",
    "print(\"Even count\",even)\n",
    "print(\"Odd count\",odd)"
   ]
  },
  {
   "cell_type": "markdown",
   "metadata": {},
   "source": [
    "**3. Take 5 integers from keyboard using a loop and print their average value on the screen.**"
   ]
  },
  {
   "cell_type": "code",
   "execution_count": 1,
   "metadata": {
    "scrolled": true
   },
   "outputs": [
    {
     "name": "stdout",
     "output_type": "stream",
     "text": [
      "Enter numbers for a : 2\n",
      "Enter numbers for a : 2.5\n",
      "Enter numbers for a : 6.5\n",
      "Enter numbers for a : 4.5\n",
      "Enter numbers for a : 1.5\n",
      "17.0\n",
      "3.4\n"
     ]
    }
   ],
   "source": [
    "list1=[]\n",
    "a=1\n",
    "while(a<=5):\n",
    "    value=float(input(\"Enter numbers for a : \"))\n",
    "    list1.append(value)\n",
    "    a+=1\n",
    "#print(list1)\n",
    "sum=0\n",
    "for i in list1:\n",
    "    sum=sum+i\n",
    "print(sum)\n",
    "avg=sum/len(list1)\n",
    "print(avg)"
   ]
  },
  {
   "cell_type": "code",
   "execution_count": null,
   "metadata": {},
   "outputs": [],
   "source": [
    "print(\"Enter 5 integer number to get the average\")\n",
    "sum=0\n",
    "k=1\n",
    "while(k<=5):\n",
    "    value=int(input(\"Enter number :\"))\n",
    "    sum=sum+value\n",
    "    k+=1\n",
    "print(\"Avg of 5 numbers:\",sum/5)"
   ]
  },
  {
   "cell_type": "code",
   "execution_count": 4,
   "metadata": {},
   "outputs": [
    {
     "name": "stdout",
     "output_type": "stream",
     "text": [
      "Input some integers to calculate their sum and average. Input 0 to exit.\n",
      "1\n",
      "2\n",
      "3\n",
      "4\n",
      "5\n",
      "Average of the above numbers are:  3.0\n"
     ]
    }
   ],
   "source": [
    "print(\"Input some integers to calculate their sum and average. Input 0 to exit.\")\n",
    "\n",
    "count = 0\n",
    "sum = 0.0\n",
    "\n",
    "while count < 5:\n",
    "\tnumber = int(input(\"\"))\n",
    "\tsum = sum + number\n",
    "\tcount += 1\n",
    "\n",
    "if count == 0 :\n",
    "\tprint(\"Input some numbers\")\n",
    "else:\n",
    "\tprint(\"Average of the above numbers are: \", sum / (count))\n",
    "\t"
   ]
  },
  {
   "cell_type": "markdown",
   "metadata": {},
   "source": [
    "**4. Following are the tuples of students who have enrolled for two courses. Find out those students who have enrolled for both the courses.**\n",
    "<br>\n",
    "course_A=('Anuj', 'Katrina', 'John', 'Jessica', 'Michael', 'Rahul', 'Khushboo')\n",
    "<br>\n",
    "course_B=('Bhavana', 'Katrina','Michael', 'Robert', 'Khushboo', 'Sachin' )"
   ]
  },
  {
   "cell_type": "code",
   "execution_count": 4,
   "metadata": {},
   "outputs": [
    {
     "name": "stdout",
     "output_type": "stream",
     "text": [
      "{'Khushboo', 'Katrina', 'Michael'}\n"
     ]
    }
   ],
   "source": [
    "course_A=('Anuj', 'Katrina', 'John', 'Jessica', 'Michael', 'Rahul', 'Khushboo')\n",
    "course_B=('Bhavana', 'Katrina','Michael', 'Robert', 'Khushboo', 'Sachin' )\n",
    "\n",
    "setA=set(course_A)\n",
    "setB=set(course_B)\n",
    "print(setA&setB)\n"
   ]
  },
  {
   "cell_type": "markdown",
   "metadata": {},
   "source": [
    "**5. Write a Python function to create and print a list where the values are square of numbers between 1 and 25 (both included).**"
   ]
  },
  {
   "cell_type": "code",
   "execution_count": 13,
   "metadata": {},
   "outputs": [
    {
     "name": "stdout",
     "output_type": "stream",
     "text": [
      "Sqaure of numbers from 1 to 25 :\n",
      " [  1   4   9  16  25  36  49  64  81 100 121 144 169 196 225 256 289 324\n",
      " 361 400 441 484 529 576 625]\n"
     ]
    }
   ],
   "source": [
    "import numpy as np\n",
    "a=np.arange(1,26,1)\n",
    "print('Sqaure of numbers from 1 to 25 :\\n',a*a)"
   ]
  },
  {
   "cell_type": "code",
   "execution_count": 10,
   "metadata": {},
   "outputs": [
    {
     "name": "stdout",
     "output_type": "stream",
     "text": [
      "[1, 4, 9, 16, 25, 36, 49, 64, 81, 100, 121, 144, 169, 196, 225, 256, 289, 324, 361, 400, 441, 484, 529, 576, 625]\n"
     ]
    }
   ],
   "source": [
    "def printValues():\n",
    "    l=list()\n",
    "    for i in range(1,26):\n",
    "        l.append(i**2)\n",
    "    print(l)\n",
    "printValues()"
   ]
  },
  {
   "cell_type": "markdown",
   "metadata": {},
   "source": [
    "**6. Write a Pandas program to create a Series out of the given list and sort it in the descending order.**\n",
    "<br>\n",
    "data_list=['1000', 'spyder', 'python', 'jupyter', '400.78', 'anaconda']"
   ]
  },
  {
   "cell_type": "code",
   "execution_count": 7,
   "metadata": {},
   "outputs": [],
   "source": [
    "import pandas as pd"
   ]
  },
  {
   "cell_type": "code",
   "execution_count": 12,
   "metadata": {},
   "outputs": [
    {
     "name": "stdout",
     "output_type": "stream",
     "text": [
      "0        1000\n",
      "1      spyder\n",
      "2           a\n",
      "3      python\n",
      "4     jupyter\n",
      "5      400.78\n",
      "6    anaconda\n",
      "dtype: object\n"
     ]
    }
   ],
   "source": [
    "\n",
    "data=['1000', 'spyder','a', 'python', 'jupyter', '400.78', 'anaconda']\n",
    "s=pd.Series(data)\n",
    "print(s)"
   ]
  },
  {
   "cell_type": "markdown",
   "metadata": {},
   "source": [
    "**7. Create a series out of a range of values from 1 to 10. Ask the user to specify how many observations should be displayed and print that many observations from the series.**\n"
   ]
  },
  {
   "cell_type": "code",
   "execution_count": null,
   "metadata": {},
   "outputs": [],
   "source": [
    "import numpy as np\n",
    "import pandas as pd\n",
    "data = np.arange(1,11,1)\n",
    "s=pd.Series(data)\n",
    "#observation=0\n",
    "print('How many observations should be displayed from 1 to 10')\n",
    "ob= float(input())\n",
    "if ob>10:\n",
    "    print('You have entered incorrect no')\n",
    "else:\n",
    "    print(s[:ob])"
   ]
  },
  {
   "cell_type": "markdown",
   "metadata": {},
   "source": [
    "**8. Write a Pandas program to create the mean and standard deviation of the data of a given Series.**\n",
    "<br>\n",
    "data_list = [1,2,3,4,5,6,7,8,9,5,3]"
   ]
  },
  {
   "cell_type": "code",
   "execution_count": 13,
   "metadata": {},
   "outputs": [
    {
     "name": "stdout",
     "output_type": "stream",
     "text": [
      "count    11.000000\n",
      "mean      4.818182\n",
      "std       2.522625\n",
      "min       1.000000\n",
      "25%       3.000000\n",
      "50%       5.000000\n",
      "75%       6.500000\n",
      "max       9.000000\n",
      "dtype: float64\n",
      "\n",
      "Mean is :  4.818181818181818\n",
      "Standard Deviation is :  2.522624895547565\n"
     ]
    }
   ],
   "source": [
    "data_list = [1,2,3,4,5,6,7,8,9,5,3]\n",
    "s=pd.Series(data_list)\n",
    "s.describe()\n",
    "result=s.describe()\n",
    "print(result)\n",
    "print('\\nMean is : ',result[1])\n",
    "print('Standard Deviation is : ',result[2])"
   ]
  },
  {
   "cell_type": "markdown",
   "metadata": {},
   "source": [
    "**9. Write a Pandas program to display a summary of the basic information about the DataFrame and its data.**\n",
    "<br>\n",
    "exam_data = {'name': ['Anuj', 'Bhavana', 'Katrina', 'John', 'Jessica', 'Michael', 'Robert', 'Rahul', 'Khushboo', 'Sachin'],\n",
    "'score': [12.5, 9, 16.5, 8, 9, 20, 14.5, 5, 8, 19],\n",
    "'attempts': [1, 3, 2, 3, 2, 3, 1, 1, 2, 1],\n",
    "'qualify': ['yes', 'no', 'yes', 'no', 'no', 'yes', 'yes', 'no', 'no', 'yes']}\n",
    "<br>\n",
    "labels = ['a', 'b', 'c', 'd', 'e', 'f', 'g', 'h', 'i', 'j']\n"
   ]
  },
  {
   "cell_type": "code",
   "execution_count": 15,
   "metadata": {},
   "outputs": [
    {
     "name": "stdout",
     "output_type": "stream",
     "text": [
      "       name  score  attempts qualify\n",
      "a      Anuj   12.5         1     yes\n",
      "b   Bhavana    9.0         3      no\n",
      "c   Katrina   16.5         2     yes\n",
      "d      John    8.0         3      no\n",
      "e   Jessica    9.0         2      no\n",
      "f   Michael   20.0         3     yes\n",
      "g    Robert   14.5         1     yes\n",
      "h     Rahul    5.0         1      no\n",
      "i  Khushboo    8.0         2      no\n",
      "j    Sachin   19.0         1     yes \n",
      "\n",
      "<class 'pandas.core.frame.DataFrame'>\n",
      "MultiIndex: 10 entries, (a,) to (j,)\n",
      "Data columns (total 4 columns):\n",
      "name        10 non-null object\n",
      "score       10 non-null float64\n",
      "attempts    10 non-null int64\n",
      "qualify     10 non-null object\n",
      "dtypes: float64(1), int64(1), object(2)\n",
      "memory usage: 426.0+ bytes\n"
     ]
    }
   ],
   "source": [
    "exam_data = {'name': ['Anuj', 'Bhavana', 'Katrina', 'John', 'Jessica', 'Michael', 'Robert', 'Rahul', 'Khushboo', 'Sachin'],\n",
    "             'score': [12.5, 9, 16.5, 8, 9, 20, 14.5, 5, 8, 19], 'attempts': [1, 3, 2, 3, 2, 3, 1, 1, 2, 1],\n",
    "             'qualify': ['yes', 'no', 'yes', 'no', 'no', 'yes', 'yes', 'no', 'no', 'yes']} \n",
    "labels = ['a', 'b', 'c', 'd', 'e', 'f', 'g', 'h', 'i', 'j']\n",
    "df = pd.DataFrame(exam_data, index=[labels])\n",
    "print(df,'\\n')\n",
    "df.info()"
   ]
  },
  {
   "cell_type": "markdown",
   "metadata": {},
   "source": [
    "**10. Select 'name' and 'score' columns in rows 1, 3, 5, 6 from the above data frame.**\n"
   ]
  },
  {
   "cell_type": "code",
   "execution_count": 16,
   "metadata": {},
   "outputs": [
    {
     "name": "stdout",
     "output_type": "stream",
     "text": [
      "      name  score\n",
      "b  Bhavana    9.0\n",
      "d     John    8.0\n",
      "f  Michael   20.0\n",
      "g   Robert   14.5\n"
     ]
    }
   ],
   "source": [
    "#accessing above data elements using indexes and labels\n",
    "#loc is used for row labels\n",
    "#iloc is used for index no's\n",
    "\n",
    "print(df.iloc[[1,3,5,6],[0,1]])"
   ]
  },
  {
   "cell_type": "markdown",
   "metadata": {},
   "source": [
    "**11. Write a Pandas program to select the rows where the number of attempts in the examination is greater than 2 and still did not qualify.**\n"
   ]
  },
  {
   "cell_type": "code",
   "execution_count": 17,
   "metadata": {},
   "outputs": [
    {
     "data": {
      "text/html": [
       "<div>\n",
       "<style scoped>\n",
       "    .dataframe tbody tr th:only-of-type {\n",
       "        vertical-align: middle;\n",
       "    }\n",
       "\n",
       "    .dataframe tbody tr th {\n",
       "        vertical-align: top;\n",
       "    }\n",
       "\n",
       "    .dataframe thead th {\n",
       "        text-align: right;\n",
       "    }\n",
       "</style>\n",
       "<table border=\"1\" class=\"dataframe\">\n",
       "  <thead>\n",
       "    <tr style=\"text-align: right;\">\n",
       "      <th></th>\n",
       "      <th>name</th>\n",
       "      <th>score</th>\n",
       "      <th>attempts</th>\n",
       "      <th>qualify</th>\n",
       "    </tr>\n",
       "  </thead>\n",
       "  <tbody>\n",
       "    <tr>\n",
       "      <th>b</th>\n",
       "      <td>Bhavana</td>\n",
       "      <td>9.0</td>\n",
       "      <td>3</td>\n",
       "      <td>no</td>\n",
       "    </tr>\n",
       "    <tr>\n",
       "      <th>d</th>\n",
       "      <td>John</td>\n",
       "      <td>8.0</td>\n",
       "      <td>3</td>\n",
       "      <td>no</td>\n",
       "    </tr>\n",
       "  </tbody>\n",
       "</table>\n",
       "</div>"
      ],
      "text/plain": [
       "      name  score  attempts qualify\n",
       "b  Bhavana    9.0         3      no\n",
       "d     John    8.0         3      no"
      ]
     },
     "execution_count": 17,
     "metadata": {},
     "output_type": "execute_result"
    }
   ],
   "source": [
    "df.loc[(df.attempts>2)&(df.qualify=='no')]"
   ]
  },
  {
   "cell_type": "markdown",
   "metadata": {},
   "source": [
    "**12. Write a Pandas program to change the score in row 'd' to 11.5.**"
   ]
  },
  {
   "cell_type": "code",
   "execution_count": 18,
   "metadata": {},
   "outputs": [
    {
     "name": "stderr",
     "output_type": "stream",
     "text": [
      "C:\\ProgramData\\Anaconda3\\lib\\site-packages\\ipykernel_launcher.py:1: FutureWarning: set_value is deprecated and will be removed in a future release. Please use .at[] or .iat[] accessors instead\n",
      "  \"\"\"Entry point for launching an IPython kernel.\n"
     ]
    },
    {
     "data": {
      "text/html": [
       "<div>\n",
       "<style scoped>\n",
       "    .dataframe tbody tr th:only-of-type {\n",
       "        vertical-align: middle;\n",
       "    }\n",
       "\n",
       "    .dataframe tbody tr th {\n",
       "        vertical-align: top;\n",
       "    }\n",
       "\n",
       "    .dataframe thead th {\n",
       "        text-align: right;\n",
       "    }\n",
       "</style>\n",
       "<table border=\"1\" class=\"dataframe\">\n",
       "  <thead>\n",
       "    <tr style=\"text-align: right;\">\n",
       "      <th></th>\n",
       "      <th>name</th>\n",
       "      <th>score</th>\n",
       "      <th>attempts</th>\n",
       "      <th>qualify</th>\n",
       "    </tr>\n",
       "  </thead>\n",
       "  <tbody>\n",
       "    <tr>\n",
       "      <th>a</th>\n",
       "      <td>Anuj</td>\n",
       "      <td>12.5</td>\n",
       "      <td>1</td>\n",
       "      <td>yes</td>\n",
       "    </tr>\n",
       "    <tr>\n",
       "      <th>b</th>\n",
       "      <td>Bhavana</td>\n",
       "      <td>9.0</td>\n",
       "      <td>3</td>\n",
       "      <td>no</td>\n",
       "    </tr>\n",
       "    <tr>\n",
       "      <th>c</th>\n",
       "      <td>Katrina</td>\n",
       "      <td>16.5</td>\n",
       "      <td>2</td>\n",
       "      <td>yes</td>\n",
       "    </tr>\n",
       "    <tr>\n",
       "      <th>d</th>\n",
       "      <td>John</td>\n",
       "      <td>11.5</td>\n",
       "      <td>3</td>\n",
       "      <td>no</td>\n",
       "    </tr>\n",
       "    <tr>\n",
       "      <th>e</th>\n",
       "      <td>Jessica</td>\n",
       "      <td>9.0</td>\n",
       "      <td>2</td>\n",
       "      <td>no</td>\n",
       "    </tr>\n",
       "    <tr>\n",
       "      <th>f</th>\n",
       "      <td>Michael</td>\n",
       "      <td>20.0</td>\n",
       "      <td>3</td>\n",
       "      <td>yes</td>\n",
       "    </tr>\n",
       "    <tr>\n",
       "      <th>g</th>\n",
       "      <td>Robert</td>\n",
       "      <td>14.5</td>\n",
       "      <td>1</td>\n",
       "      <td>yes</td>\n",
       "    </tr>\n",
       "    <tr>\n",
       "      <th>h</th>\n",
       "      <td>Rahul</td>\n",
       "      <td>5.0</td>\n",
       "      <td>1</td>\n",
       "      <td>no</td>\n",
       "    </tr>\n",
       "    <tr>\n",
       "      <th>i</th>\n",
       "      <td>Khushboo</td>\n",
       "      <td>8.0</td>\n",
       "      <td>2</td>\n",
       "      <td>no</td>\n",
       "    </tr>\n",
       "    <tr>\n",
       "      <th>j</th>\n",
       "      <td>Sachin</td>\n",
       "      <td>19.0</td>\n",
       "      <td>1</td>\n",
       "      <td>yes</td>\n",
       "    </tr>\n",
       "  </tbody>\n",
       "</table>\n",
       "</div>"
      ],
      "text/plain": [
       "       name  score  attempts qualify\n",
       "a      Anuj   12.5         1     yes\n",
       "b   Bhavana    9.0         3      no\n",
       "c   Katrina   16.5         2     yes\n",
       "d      John   11.5         3      no\n",
       "e   Jessica    9.0         2      no\n",
       "f   Michael   20.0         3     yes\n",
       "g    Robert   14.5         1     yes\n",
       "h     Rahul    5.0         1      no\n",
       "i  Khushboo    8.0         2      no\n",
       "j    Sachin   19.0         1     yes"
      ]
     },
     "execution_count": 18,
     "metadata": {},
     "output_type": "execute_result"
    }
   ],
   "source": [
    "df.set_value('d',['score'],[11.5])\n",
    "df"
   ]
  },
  {
   "cell_type": "markdown",
   "metadata": {},
   "source": [
    "**13. Write a Pandas program to change the name 'Jessica' to 'Suresh' in name column of the DataFrame.**"
   ]
  },
  {
   "cell_type": "code",
   "execution_count": 73,
   "metadata": {},
   "outputs": [
    {
     "data": {
      "text/html": [
       "<div>\n",
       "<style scoped>\n",
       "    .dataframe tbody tr th:only-of-type {\n",
       "        vertical-align: middle;\n",
       "    }\n",
       "\n",
       "    .dataframe tbody tr th {\n",
       "        vertical-align: top;\n",
       "    }\n",
       "\n",
       "    .dataframe thead th {\n",
       "        text-align: right;\n",
       "    }\n",
       "</style>\n",
       "<table border=\"1\" class=\"dataframe\">\n",
       "  <thead>\n",
       "    <tr style=\"text-align: right;\">\n",
       "      <th></th>\n",
       "      <th>name</th>\n",
       "      <th>score</th>\n",
       "      <th>attempts</th>\n",
       "      <th>qualify</th>\n",
       "    </tr>\n",
       "  </thead>\n",
       "  <tbody>\n",
       "    <tr>\n",
       "      <th>a</th>\n",
       "      <td>Anuj</td>\n",
       "      <td>12.5</td>\n",
       "      <td>1</td>\n",
       "      <td>yes</td>\n",
       "    </tr>\n",
       "    <tr>\n",
       "      <th>b</th>\n",
       "      <td>Bhavana</td>\n",
       "      <td>9.0</td>\n",
       "      <td>3</td>\n",
       "      <td>no</td>\n",
       "    </tr>\n",
       "    <tr>\n",
       "      <th>c</th>\n",
       "      <td>Katrina</td>\n",
       "      <td>16.5</td>\n",
       "      <td>2</td>\n",
       "      <td>yes</td>\n",
       "    </tr>\n",
       "    <tr>\n",
       "      <th>d</th>\n",
       "      <td>John</td>\n",
       "      <td>11.5</td>\n",
       "      <td>3</td>\n",
       "      <td>no</td>\n",
       "    </tr>\n",
       "    <tr>\n",
       "      <th>e</th>\n",
       "      <td>Suresh</td>\n",
       "      <td>9.0</td>\n",
       "      <td>2</td>\n",
       "      <td>no</td>\n",
       "    </tr>\n",
       "    <tr>\n",
       "      <th>f</th>\n",
       "      <td>Michael</td>\n",
       "      <td>20.0</td>\n",
       "      <td>3</td>\n",
       "      <td>yes</td>\n",
       "    </tr>\n",
       "    <tr>\n",
       "      <th>g</th>\n",
       "      <td>Robert</td>\n",
       "      <td>14.5</td>\n",
       "      <td>1</td>\n",
       "      <td>yes</td>\n",
       "    </tr>\n",
       "    <tr>\n",
       "      <th>h</th>\n",
       "      <td>Rahul</td>\n",
       "      <td>5.0</td>\n",
       "      <td>1</td>\n",
       "      <td>no</td>\n",
       "    </tr>\n",
       "    <tr>\n",
       "      <th>i</th>\n",
       "      <td>Khushboo</td>\n",
       "      <td>8.0</td>\n",
       "      <td>2</td>\n",
       "      <td>no</td>\n",
       "    </tr>\n",
       "    <tr>\n",
       "      <th>j</th>\n",
       "      <td>Sachin</td>\n",
       "      <td>19.0</td>\n",
       "      <td>1</td>\n",
       "      <td>yes</td>\n",
       "    </tr>\n",
       "  </tbody>\n",
       "</table>\n",
       "</div>"
      ],
      "text/plain": [
       "       name  score  attempts qualify\n",
       "a      Anuj   12.5         1     yes\n",
       "b   Bhavana    9.0         3      no\n",
       "c   Katrina   16.5         2     yes\n",
       "d      John   11.5         3      no\n",
       "e    Suresh    9.0         2      no\n",
       "f   Michael   20.0         3     yes\n",
       "g    Robert   14.5         1     yes\n",
       "h     Rahul    5.0         1      no\n",
       "i  Khushboo    8.0         2      no\n",
       "j    Sachin   19.0         1     yes"
      ]
     },
     "execution_count": 73,
     "metadata": {},
     "output_type": "execute_result"
    }
   ],
   "source": [
    "df.loc[(df.name=='Jessica'),['name']]=['Suresh']\n",
    "df"
   ]
  },
  {
   "cell_type": "markdown",
   "metadata": {},
   "source": [
    "**14. Write a Pandas program to delete the 'attempts' column from the DataFrame.**"
   ]
  },
  {
   "cell_type": "code",
   "execution_count": 74,
   "metadata": {},
   "outputs": [
    {
     "data": {
      "text/html": [
       "<div>\n",
       "<style scoped>\n",
       "    .dataframe tbody tr th:only-of-type {\n",
       "        vertical-align: middle;\n",
       "    }\n",
       "\n",
       "    .dataframe tbody tr th {\n",
       "        vertical-align: top;\n",
       "    }\n",
       "\n",
       "    .dataframe thead th {\n",
       "        text-align: right;\n",
       "    }\n",
       "</style>\n",
       "<table border=\"1\" class=\"dataframe\">\n",
       "  <thead>\n",
       "    <tr style=\"text-align: right;\">\n",
       "      <th></th>\n",
       "      <th>name</th>\n",
       "      <th>score</th>\n",
       "      <th>qualify</th>\n",
       "    </tr>\n",
       "  </thead>\n",
       "  <tbody>\n",
       "    <tr>\n",
       "      <th>a</th>\n",
       "      <td>Anuj</td>\n",
       "      <td>12.5</td>\n",
       "      <td>yes</td>\n",
       "    </tr>\n",
       "    <tr>\n",
       "      <th>b</th>\n",
       "      <td>Bhavana</td>\n",
       "      <td>9.0</td>\n",
       "      <td>no</td>\n",
       "    </tr>\n",
       "    <tr>\n",
       "      <th>c</th>\n",
       "      <td>Katrina</td>\n",
       "      <td>16.5</td>\n",
       "      <td>yes</td>\n",
       "    </tr>\n",
       "    <tr>\n",
       "      <th>d</th>\n",
       "      <td>John</td>\n",
       "      <td>11.5</td>\n",
       "      <td>no</td>\n",
       "    </tr>\n",
       "    <tr>\n",
       "      <th>e</th>\n",
       "      <td>Suresh</td>\n",
       "      <td>9.0</td>\n",
       "      <td>no</td>\n",
       "    </tr>\n",
       "    <tr>\n",
       "      <th>f</th>\n",
       "      <td>Michael</td>\n",
       "      <td>20.0</td>\n",
       "      <td>yes</td>\n",
       "    </tr>\n",
       "    <tr>\n",
       "      <th>g</th>\n",
       "      <td>Robert</td>\n",
       "      <td>14.5</td>\n",
       "      <td>yes</td>\n",
       "    </tr>\n",
       "    <tr>\n",
       "      <th>h</th>\n",
       "      <td>Rahul</td>\n",
       "      <td>5.0</td>\n",
       "      <td>no</td>\n",
       "    </tr>\n",
       "    <tr>\n",
       "      <th>i</th>\n",
       "      <td>Khushboo</td>\n",
       "      <td>8.0</td>\n",
       "      <td>no</td>\n",
       "    </tr>\n",
       "    <tr>\n",
       "      <th>j</th>\n",
       "      <td>Sachin</td>\n",
       "      <td>19.0</td>\n",
       "      <td>yes</td>\n",
       "    </tr>\n",
       "  </tbody>\n",
       "</table>\n",
       "</div>"
      ],
      "text/plain": [
       "       name  score qualify\n",
       "a      Anuj   12.5     yes\n",
       "b   Bhavana    9.0      no\n",
       "c   Katrina   16.5     yes\n",
       "d      John   11.5      no\n",
       "e    Suresh    9.0      no\n",
       "f   Michael   20.0     yes\n",
       "g    Robert   14.5     yes\n",
       "h     Rahul    5.0      no\n",
       "i  Khushboo    8.0      no\n",
       "j    Sachin   19.0     yes"
      ]
     },
     "execution_count": 74,
     "metadata": {},
     "output_type": "execute_result"
    }
   ],
   "source": [
    "del df['attempts']\n",
    "df"
   ]
  },
  {
   "cell_type": "markdown",
   "metadata": {},
   "source": [
    "**15. Write a Pandas program to rearrange the columns of the dataframe. Follow the order:**\n",
    "<br>\n",
    "Qualify, Name, Score\n"
   ]
  },
  {
   "cell_type": "code",
   "execution_count": 75,
   "metadata": {},
   "outputs": [
    {
     "data": {
      "text/html": [
       "<div>\n",
       "<style scoped>\n",
       "    .dataframe tbody tr th:only-of-type {\n",
       "        vertical-align: middle;\n",
       "    }\n",
       "\n",
       "    .dataframe tbody tr th {\n",
       "        vertical-align: top;\n",
       "    }\n",
       "\n",
       "    .dataframe thead th {\n",
       "        text-align: right;\n",
       "    }\n",
       "</style>\n",
       "<table border=\"1\" class=\"dataframe\">\n",
       "  <thead>\n",
       "    <tr style=\"text-align: right;\">\n",
       "      <th></th>\n",
       "      <th>qualify</th>\n",
       "      <th>name</th>\n",
       "      <th>score</th>\n",
       "    </tr>\n",
       "  </thead>\n",
       "  <tbody>\n",
       "    <tr>\n",
       "      <th>a</th>\n",
       "      <td>yes</td>\n",
       "      <td>Anuj</td>\n",
       "      <td>12.5</td>\n",
       "    </tr>\n",
       "    <tr>\n",
       "      <th>b</th>\n",
       "      <td>no</td>\n",
       "      <td>Bhavana</td>\n",
       "      <td>9.0</td>\n",
       "    </tr>\n",
       "    <tr>\n",
       "      <th>c</th>\n",
       "      <td>yes</td>\n",
       "      <td>Katrina</td>\n",
       "      <td>16.5</td>\n",
       "    </tr>\n",
       "    <tr>\n",
       "      <th>d</th>\n",
       "      <td>no</td>\n",
       "      <td>John</td>\n",
       "      <td>11.5</td>\n",
       "    </tr>\n",
       "    <tr>\n",
       "      <th>e</th>\n",
       "      <td>no</td>\n",
       "      <td>Suresh</td>\n",
       "      <td>9.0</td>\n",
       "    </tr>\n",
       "    <tr>\n",
       "      <th>f</th>\n",
       "      <td>yes</td>\n",
       "      <td>Michael</td>\n",
       "      <td>20.0</td>\n",
       "    </tr>\n",
       "    <tr>\n",
       "      <th>g</th>\n",
       "      <td>yes</td>\n",
       "      <td>Robert</td>\n",
       "      <td>14.5</td>\n",
       "    </tr>\n",
       "    <tr>\n",
       "      <th>h</th>\n",
       "      <td>no</td>\n",
       "      <td>Rahul</td>\n",
       "      <td>5.0</td>\n",
       "    </tr>\n",
       "    <tr>\n",
       "      <th>i</th>\n",
       "      <td>no</td>\n",
       "      <td>Khushboo</td>\n",
       "      <td>8.0</td>\n",
       "    </tr>\n",
       "    <tr>\n",
       "      <th>j</th>\n",
       "      <td>yes</td>\n",
       "      <td>Sachin</td>\n",
       "      <td>19.0</td>\n",
       "    </tr>\n",
       "  </tbody>\n",
       "</table>\n",
       "</div>"
      ],
      "text/plain": [
       "  qualify      name  score\n",
       "a     yes      Anuj   12.5\n",
       "b      no   Bhavana    9.0\n",
       "c     yes   Katrina   16.5\n",
       "d      no      John   11.5\n",
       "e      no    Suresh    9.0\n",
       "f     yes   Michael   20.0\n",
       "g     yes    Robert   14.5\n",
       "h      no     Rahul    5.0\n",
       "i      no  Khushboo    8.0\n",
       "j     yes    Sachin   19.0"
      ]
     },
     "execution_count": 75,
     "metadata": {},
     "output_type": "execute_result"
    }
   ],
   "source": [
    "df=df[['qualify','name','score']]\n",
    "df"
   ]
  },
  {
   "cell_type": "code",
   "execution_count": null,
   "metadata": {},
   "outputs": [],
   "source": []
  }
 ],
 "metadata": {
  "kernelspec": {
   "display_name": "Python 3",
   "language": "python",
   "name": "python3"
  },
  "language_info": {
   "codemirror_mode": {
    "name": "ipython",
    "version": 3
   },
   "file_extension": ".py",
   "mimetype": "text/x-python",
   "name": "python",
   "nbconvert_exporter": "python",
   "pygments_lexer": "ipython3",
   "version": "3.7.3"
  }
 },
 "nbformat": 4,
 "nbformat_minor": 2
}
