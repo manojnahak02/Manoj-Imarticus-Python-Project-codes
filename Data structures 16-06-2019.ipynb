{
 "cells": [
  {
   "cell_type": "code",
   "execution_count": 3,
   "metadata": {},
   "outputs": [
    {
     "name": "stdout",
     "output_type": "stream",
     "text": [
      "<class 'int'>\n",
      "<class 'float'>\n",
      "<class 'complex'>\n"
     ]
    }
   ],
   "source": [
    "#Python numbers\n",
    "a=5\n",
    "print(type(a))\n",
    "\n",
    "a=30.5\n",
    "print(type(a))\n",
    "\n",
    "a=10+2j  #j used for complex number\n",
    "print(type(a))"
   ]
  },
  {
   "cell_type": "code",
   "execution_count": 5,
   "metadata": {},
   "outputs": [
    {
     "name": "stdout",
     "output_type": "stream",
     "text": [
      "-2\n",
      "5.0\n"
     ]
    }
   ],
   "source": [
    "#type casting\n",
    "print(int(-2.8))\n",
    "print(float(5))"
   ]
  },
  {
   "cell_type": "code",
   "execution_count": 3,
   "metadata": {},
   "outputs": [],
   "source": [
    "import math"
   ]
  },
  {
   "cell_type": "code",
   "execution_count": 6,
   "metadata": {},
   "outputs": [
    {
     "name": "stdout",
     "output_type": "stream",
     "text": [
      "2.0\n",
      "-11\n",
      "10\n",
      "-12\n",
      "13\n",
      "8.0\n",
      "3.141592653589793\n",
      "120\n"
     ]
    }
   ],
   "source": [
    "#math library and its function\n",
    "print(math.sqrt(4))\n",
    "print(math.floor(-10.7))\n",
    "print(math.floor(10.7))\n",
    "print(math.ceil(-12.7))\n",
    "print(math.ceil(12.3))\n",
    "print(math.pow(2,3))\n",
    "print(math.pi) #pi is an attribute which does not require arguments\n",
    "print(math.factorial(5))"
   ]
  },
  {
   "cell_type": "code",
   "execution_count": 1,
   "metadata": {},
   "outputs": [
    {
     "name": "stdout",
     "output_type": "stream",
     "text": [
      "0.1512642039956954\n",
      "70\n",
      "65.11023377419954\n",
      "20\n",
      "['e', 'd', 'c', 10, 'b', 20, 2.5, 30.5, 'a']\n"
     ]
    }
   ],
   "source": [
    "import random as rn\n",
    "\n",
    "print(rn.random()) #range is 0 to 1\n",
    "print(rn.randrange(50,100)) # for integer\n",
    "print(rn.uniform(50.5,100)) #for float\n",
    "\n",
    "x=['a','b','c','d','e',10,20,30.5,2.5]\n",
    "print(rn.choice(x)) #to choice\n",
    "rn.shuffle(x)\n",
    "print(x)"
   ]
  },
  {
   "cell_type": "code",
   "execution_count": 27,
   "metadata": {},
   "outputs": [
    {
     "name": "stdout",
     "output_type": "stream",
     "text": [
      "<class 'str'>\n",
      "Hello world\n",
      "Python is a programming language.\n",
      "Python is interesting.\n",
      "this is it.\n",
      "Python is a programming language.\n",
      " this is it.\n"
     ]
    }
   ],
   "source": [
    "#strings are immutable but can be replace\n",
    "\n",
    "my_string = \"Hello world\"\n",
    "print(type(my_string))\n",
    "print(my_string)\n",
    "\n",
    "#comment\n",
    "\"\"\"\n",
    "this is \n",
    "a comment\"\"\"\n",
    "\n",
    "#multi line string which look like comment\n",
    "my_string = \"\"\"Python is a programming language.\n",
    "Python is interesting.\n",
    "this is it.\"\"\"\n",
    "print(my_string)\n",
    "\n",
    "my_string = \"Python is a programming language.\\n this is it.\"\n",
    "print(my_string)"
   ]
  },
  {
   "cell_type": "code",
   "execution_count": 28,
   "metadata": {},
   "outputs": [
    {
     "name": "stdout",
     "output_type": "stream",
     "text": [
      "P\n",
      "n\n",
      "Python is a progra\n",
      "Python is a programming l\n",
      "anguage. Python is interesting.\n",
      "Python is a programming language. Python is interesting.\n"
     ]
    }
   ],
   "source": [
    "#slicing\n",
    "my_string = \"Python is a programming language. Python is interesting.\"\n",
    "print(my_string[0])\n",
    "print(my_string[-3])\n",
    "#[inclusive:exclusive]\n",
    "print(my_string[0:18])\n",
    "print(my_string[:25])\n",
    "print(my_string[25:])\n",
    "print(my_string[:])\n",
    "#print(my_string[100])\n"
   ]
  },
  {
   "cell_type": "code",
   "execution_count": 29,
   "metadata": {},
   "outputs": [
    {
     "ename": "TypeError",
     "evalue": "'str' object does not support item assignment",
     "output_type": "error",
     "traceback": [
      "\u001b[1;31m---------------------------------------------------------------------------\u001b[0m",
      "\u001b[1;31mTypeError\u001b[0m                                 Traceback (most recent call last)",
      "\u001b[1;32m<ipython-input-29-2484aa0be2f2>\u001b[0m in \u001b[0;36m<module>\u001b[1;34m\u001b[0m\n\u001b[0;32m      1\u001b[0m \u001b[1;31m#Strings are immutable so this is an error\u001b[0m\u001b[1;33m\u001b[0m\u001b[1;33m\u001b[0m\u001b[1;33m\u001b[0m\u001b[0m\n\u001b[1;32m----> 2\u001b[1;33m \u001b[0mmy_string\u001b[0m\u001b[1;33m[\u001b[0m\u001b[1;36m3\u001b[0m\u001b[1;33m]\u001b[0m\u001b[1;33m=\u001b[0m\u001b[1;34m'B'\u001b[0m\u001b[1;33m\u001b[0m\u001b[1;33m\u001b[0m\u001b[0m\n\u001b[0m",
      "\u001b[1;31mTypeError\u001b[0m: 'str' object does not support item assignment"
     ]
    }
   ],
   "source": [
    "#Strings are immutable so this is an error\n",
    "my_string[3]='B'"
   ]
  },
  {
   "cell_type": "code",
   "execution_count": 30,
   "metadata": {},
   "outputs": [],
   "source": [
    "del my_string"
   ]
  },
  {
   "cell_type": "code",
   "execution_count": 31,
   "metadata": {},
   "outputs": [
    {
     "ename": "NameError",
     "evalue": "name 'my_string' is not defined",
     "output_type": "error",
     "traceback": [
      "\u001b[1;31m---------------------------------------------------------------------------\u001b[0m",
      "\u001b[1;31mNameError\u001b[0m                                 Traceback (most recent call last)",
      "\u001b[1;32m<ipython-input-31-5448bf65e4ac>\u001b[0m in \u001b[0;36m<module>\u001b[1;34m\u001b[0m\n\u001b[0;32m      1\u001b[0m \u001b[1;31m#we have deleated the string, this will be an error\u001b[0m\u001b[1;33m\u001b[0m\u001b[1;33m\u001b[0m\u001b[1;33m\u001b[0m\u001b[0m\n\u001b[1;32m----> 2\u001b[1;33m \u001b[0mprint\u001b[0m\u001b[1;33m(\u001b[0m\u001b[0mmy_string\u001b[0m\u001b[1;33m)\u001b[0m\u001b[1;33m\u001b[0m\u001b[1;33m\u001b[0m\u001b[0m\n\u001b[0m",
      "\u001b[1;31mNameError\u001b[0m: name 'my_string' is not defined"
     ]
    }
   ],
   "source": [
    "#we have deleated the string, this will be an error\n",
    "print(my_string)"
   ]
  },
  {
   "cell_type": "code",
   "execution_count": 25,
   "metadata": {},
   "outputs": [
    {
     "name": "stdout",
     "output_type": "stream",
     "text": [
      "Hello world\n"
     ]
    }
   ],
   "source": [
    "str1 = 'Hello'\n",
    "str2 = 'world'\n",
    "\n",
    "str1 = str1 + \" \" + str2\n",
    "print(str1)"
   ]
  },
  {
   "cell_type": "code",
   "execution_count": 26,
   "metadata": {},
   "outputs": [
    {
     "name": "stdout",
     "output_type": "stream",
     "text": [
      "python\n",
      "['PYTHON', 'IS', 'A', 'PROGRAMMING LANGUAGE.']\n",
      "Happy Birthday\n"
     ]
    },
    {
     "data": {
      "text/plain": [
       "33"
      ]
     },
     "execution_count": 26,
     "metadata": {},
     "output_type": "execute_result"
    }
   ],
   "source": [
    "#functions with string\n",
    "print(\"PyThOn\".lower()) # output will be in lower case\n",
    "\n",
    "string=\"python,is,a,programming language.\"\n",
    "print(string.upper().split(sep=\",\")) #for multiple delimite use regex\n",
    "\n",
    "print('Happy Diwali'.replace(\"Diwali\",\"Birthday\"))\n",
    "len(string) #to get string count"
   ]
  },
  {
   "cell_type": "markdown",
   "metadata": {},
   "source": [
    "# LIST"
   ]
  },
  {
   "cell_type": "code",
   "execution_count": 32,
   "metadata": {},
   "outputs": [
    {
     "name": "stdout",
     "output_type": "stream",
     "text": [
      "[1, 3, 4, 2, 6, 5]\n",
      "[1, 4.2, 'python', 4.2]\n",
      "<class 'list'>\n"
     ]
    }
   ],
   "source": [
    "#Python list\n",
    "list1 = [1,3,4,2,6,5]\n",
    "list2 = [1, 4.2, 'python', 4.2]\n",
    "\n",
    "print(list1)\n",
    "print(list2)\n",
    "print(type(list1))"
   ]
  },
  {
   "cell_type": "code",
   "execution_count": 31,
   "metadata": {},
   "outputs": [
    {
     "name": "stdout",
     "output_type": "stream",
     "text": [
      "a[2] =  30\n",
      "a[0:3] =  [10, 20, 30]\n",
      "a[5:] =  [60, 70, 80]\n"
     ]
    }
   ],
   "source": [
    "#use of slicing operator\n",
    "a = [10,20,30,40,50,60,70,80]\n",
    "\n",
    "print(\"a[2] = \", a[2])\n",
    "\n",
    "print(\"a[0:3] = \", a[0:3])\n",
    "\n",
    "print(\"a[5:] = \", a[5:])"
   ]
  },
  {
   "cell_type": "code",
   "execution_count": 33,
   "metadata": {},
   "outputs": [
    {
     "name": "stdout",
     "output_type": "stream",
     "text": [
      "[0, 1, 2, 3, 4, 5, 6, 7, 8, 9]\n"
     ]
    }
   ],
   "source": [
    "x=list(range(0,10))\n",
    "print(x)"
   ]
  },
  {
   "cell_type": "code",
   "execution_count": 43,
   "metadata": {},
   "outputs": [
    {
     "name": "stdout",
     "output_type": "stream",
     "text": [
      "a\n",
      "5\n",
      "raj\n",
      "j\n"
     ]
    }
   ],
   "source": [
    "#nested list (data structure within another data structure)\n",
    "b = ['spam',2.0,5,[10,\"raj\"]]\n",
    "print(b[0][2])\n",
    "print(b[2])\n",
    "print(b[3][1])\n",
    "print(b[3][1][2])"
   ]
  },
  {
   "cell_type": "code",
   "execution_count": 42,
   "metadata": {},
   "outputs": [
    {
     "name": "stdout",
     "output_type": "stream",
     "text": [
      "[1, 2, 3, 4, 5, 6, 7, 8]\n",
      "[1, 2, 3, 4.5, 5, 'six', 7, 8]\n"
     ]
    }
   ],
   "source": [
    "#list are mutuable\n",
    "a = [1,2,3,4,5,6,7,8]\n",
    "print(a)\n",
    "a[3]=4.5  #replacing the 3rd index value\n",
    "a[5]=\"six\"\n",
    "print(a)"
   ]
  },
  {
   "cell_type": "code",
   "execution_count": 43,
   "metadata": {},
   "outputs": [
    {
     "data": {
      "text/plain": [
       "[1, 2, 3, 4.5, 5, 'six', 7, 8, 'spam', 2.0, 5, [10, 'raj'], 120, 300]"
      ]
     },
     "execution_count": 43,
     "metadata": {},
     "output_type": "execute_result"
    }
   ],
   "source": [
    "#concatinating lists\n",
    "c = a + b + [120,300]\n",
    "c"
   ]
  },
  {
   "cell_type": "code",
   "execution_count": 44,
   "metadata": {},
   "outputs": [
    {
     "name": "stdout",
     "output_type": "stream",
     "text": [
      "Enter a number: 7\n",
      "Enter a number: 9\n",
      "Enter a number: 11\n",
      "[1, 2, 7, 9, 11]\n"
     ]
    }
   ],
   "source": [
    "#append a single element by taking values from user, by using input()\n",
    "my_list = [1,2]\n",
    "\n",
    "i = 1\n",
    "while(i<=3):\n",
    "    value=int(input(\"Enter a number: \"))\n",
    "    my_list.append(value)\n",
    "    i+=1\n",
    "print(my_list)"
   ]
  },
  {
   "cell_type": "code",
   "execution_count": 46,
   "metadata": {},
   "outputs": [
    {
     "name": "stdout",
     "output_type": "stream",
     "text": [
      "[1, 3, 5, 7, 9, 2, 4, 5, 8, 10]\n"
     ]
    }
   ],
   "source": [
    "#appending multiple elements\n",
    "list2 = [1,3,5,7,9]\n",
    "list3 = [2,4,5,8,10]\n",
    "list2.extend(list3) #adding list 3 into list 2\n",
    "print(list2)"
   ]
  },
  {
   "cell_type": "code",
   "execution_count": 48,
   "metadata": {},
   "outputs": [
    {
     "name": "stdout",
     "output_type": "stream",
     "text": [
      "['a', 'm', 'b', 'c', 'd']\n",
      "4\n"
     ]
    }
   ],
   "source": [
    "#inserting element in between the list\n",
    "list1 = ['a','b','c','d']\n",
    "list1.insert(1,'d')\n",
    "print(list1)\n",
    "print(list1.index(\"d\"))"
   ]
  },
  {
   "cell_type": "code",
   "execution_count": 49,
   "metadata": {},
   "outputs": [
    {
     "name": "stdout",
     "output_type": "stream",
     "text": [
      "['d', 'c', 'b', 'a']\n"
     ]
    }
   ],
   "source": [
    "list1 = ['a','b','c','d']\n",
    "list1.reverse()\n",
    "print(list1)"
   ]
  },
  {
   "cell_type": "code",
   "execution_count": 53,
   "metadata": {},
   "outputs": [
    {
     "name": "stdout",
     "output_type": "stream",
     "text": [
      "['a', 'a', 'b', 'c', 'd', 'd', 'f']\n",
      "['f', 'd', 'd', 'c', 'b', 'a', 'a']\n"
     ]
    }
   ],
   "source": [
    "list1 = ['a','b','c','d','d','a','f']\n",
    "list1.sort()\n",
    "print(list1)\n",
    "list1.sort(reverse=True)\n",
    "print(list1)"
   ]
  },
  {
   "cell_type": "code",
   "execution_count": 50,
   "metadata": {},
   "outputs": [
    {
     "ename": "TypeError",
     "evalue": "'<' not supported between instances of 'float' and 'str'",
     "output_type": "error",
     "traceback": [
      "\u001b[1;31m---------------------------------------------------------------------------\u001b[0m",
      "\u001b[1;31mTypeError\u001b[0m                                 Traceback (most recent call last)",
      "\u001b[1;32m<ipython-input-50-a2c147c07d79>\u001b[0m in \u001b[0;36m<module>\u001b[1;34m\u001b[0m\n\u001b[0;32m      1\u001b[0m \u001b[0mb\u001b[0m\u001b[1;33m=\u001b[0m\u001b[1;33m[\u001b[0m\u001b[1;34m'spam'\u001b[0m\u001b[1;33m,\u001b[0m\u001b[1;36m2.0\u001b[0m\u001b[1;33m,\u001b[0m\u001b[1;36m5\u001b[0m\u001b[1;33m,\u001b[0m\u001b[1;33m[\u001b[0m\u001b[1;36m10\u001b[0m\u001b[1;33m,\u001b[0m\u001b[1;34m'raj'\u001b[0m\u001b[1;33m]\u001b[0m\u001b[1;33m]\u001b[0m \u001b[1;31m#list cannot compare btwn string and int\u001b[0m\u001b[1;33m\u001b[0m\u001b[1;33m\u001b[0m\u001b[0m\n\u001b[1;32m----> 2\u001b[1;33m \u001b[0mb\u001b[0m\u001b[1;33m.\u001b[0m\u001b[0msort\u001b[0m\u001b[1;33m(\u001b[0m\u001b[1;33m)\u001b[0m\u001b[1;33m\u001b[0m\u001b[1;33m\u001b[0m\u001b[0m\n\u001b[0m",
      "\u001b[1;31mTypeError\u001b[0m: '<' not supported between instances of 'float' and 'str'"
     ]
    }
   ],
   "source": [
    "b=['spam',2.0,5,[10,'raj']] #list cannot compare btwn string and int\n",
    "b.sort()"
   ]
  },
  {
   "cell_type": "code",
   "execution_count": 54,
   "metadata": {},
   "outputs": [
    {
     "name": "stdout",
     "output_type": "stream",
     "text": [
      "['f', 'd', 'd', 'c', 'a', 'a']\n"
     ]
    }
   ],
   "source": [
    "del list1[4] #will delete the 5th index data\n",
    "print(list1)"
   ]
  },
  {
   "cell_type": "code",
   "execution_count": 56,
   "metadata": {},
   "outputs": [
    {
     "name": "stdout",
     "output_type": "stream",
     "text": [
      "['f', 'c', 'a', 'a']\n"
     ]
    }
   ],
   "source": [
    "list1.remove('d') #will remove the first apperance of d\n",
    "print(list1)"
   ]
  },
  {
   "cell_type": "code",
   "execution_count": 57,
   "metadata": {},
   "outputs": [
    {
     "name": "stdout",
     "output_type": "stream",
     "text": [
      "['f', 'c', 'a', 'a']\n"
     ]
    },
    {
     "data": {
      "text/plain": [
       "['f', 'a']"
      ]
     },
     "execution_count": 57,
     "metadata": {},
     "output_type": "execute_result"
    }
   ],
   "source": [
    "print(list1)\n",
    "del list1[1:3]\n",
    "list1"
   ]
  },
  {
   "cell_type": "code",
   "execution_count": 64,
   "metadata": {},
   "outputs": [
    {
     "data": {
      "text/plain": [
       "['f', 'a']"
      ]
     },
     "execution_count": 64,
     "metadata": {},
     "output_type": "execute_result"
    }
   ],
   "source": [
    "#list2 = list1 (will create a copy but it will hold same memory)\n",
    "list2 = list1.copy() #to create a copy of a list\n",
    "list2"
   ]
  },
  {
   "cell_type": "code",
   "execution_count": 65,
   "metadata": {},
   "outputs": [
    {
     "data": {
      "text/plain": [
       "[]"
      ]
     },
     "execution_count": 65,
     "metadata": {},
     "output_type": "execute_result"
    }
   ],
   "source": [
    "list1.clear()\n",
    "list1"
   ]
  },
  {
   "cell_type": "code",
   "execution_count": 67,
   "metadata": {},
   "outputs": [
    {
     "name": "stdout",
     "output_type": "stream",
     "text": [
      "6\n",
      "30\n",
      "5\n",
      "105\n",
      "17.5\n"
     ]
    }
   ],
   "source": [
    "#aggregate functions\n",
    "num = [5,10,15,20,25,30]\n",
    "print(len(num))\n",
    "print(max(num))\n",
    "print(min(num))\n",
    "print(sum(num))\n",
    "print(sum(num)/len(num))"
   ]
  },
  {
   "cell_type": "code",
   "execution_count": 59,
   "metadata": {},
   "outputs": [
    {
     "name": "stdout",
     "output_type": "stream",
     "text": [
      "[1, 2, 3, 4, 5]\n"
     ]
    },
    {
     "data": {
      "text/plain": [
       "list"
      ]
     },
     "execution_count": 59,
     "metadata": {},
     "output_type": "execute_result"
    }
   ],
   "source": [
    "#type casting a data structure\n",
    "#list and strings\n",
    "x = (1,2,3,4,5)\n",
    "y=list(x)\n",
    "print(y)\n",
    "type(y)"
   ]
  },
  {
   "cell_type": "code",
   "execution_count": 66,
   "metadata": {},
   "outputs": [
    {
     "name": "stdout",
     "output_type": "stream",
     "text": [
      "['P', 'y', 't', 'h', 'o', 'n']\n",
      "<class 'list'>\n",
      "(1, 2, 3, 4, 5)\n",
      "<class 'tuple'>\n",
      "[1, 2, 3, 4, 5]\n",
      "<class 'list'>\n"
     ]
    }
   ],
   "source": [
    "#type casting a data structure\n",
    "#list and strings\n",
    "x = \"Python\"\n",
    "y=list(x)\n",
    "print(y)\n",
    "print(type(y))\n",
    "\n",
    "a = (1,2,3,4,5)\n",
    "print(a)\n",
    "print(type(a))\n",
    "b=list(a)\n",
    "print(b)\n",
    "print(type(b))"
   ]
  },
  {
   "cell_type": "code",
   "execution_count": 60,
   "metadata": {},
   "outputs": [
    {
     "name": "stdout",
     "output_type": "stream",
     "text": [
      "[(10, 2, 1), (20, 4, 2), (30, 6, 3), (40, 8, 4)]\n"
     ]
    }
   ],
   "source": [
    "#zip function\n",
    "a=[10,20,30,40,50,60]\n",
    "b=[2,4,6,8,10]\n",
    "c=[1,2,3,4]\n",
    "print(list(zip(a,b,c))) # will output only the pair from a,b,c"
   ]
  },
  {
   "cell_type": "markdown",
   "metadata": {},
   "source": [
    "# TUPLES"
   ]
  },
  {
   "cell_type": "code",
   "execution_count": 68,
   "metadata": {},
   "outputs": [
    {
     "name": "stdout",
     "output_type": "stream",
     "text": [
      "<class 'tuple'>\n",
      "(5, 'python', (10+2j))\n"
     ]
    }
   ],
   "source": [
    "#TUPLES\n",
    "a = (5,'python',10+2j,5)\n",
    "print(type(a))\n",
    "print(a[0:3])"
   ]
  },
  {
   "cell_type": "code",
   "execution_count": 76,
   "metadata": {},
   "outputs": [
    {
     "name": "stdout",
     "output_type": "stream",
     "text": [
      "<class 'tuple'>\n",
      "('p', 'y', 't', 'h', 'o', 'n')\n",
      "(1, 2, 3, 4, 5)\n"
     ]
    }
   ],
   "source": [
    "#empty tuple\n",
    "c=()\n",
    "print(type(c))\n",
    "\n",
    "c=tuple(\"python\") #to create every character as a tuple\n",
    "print(c)\n",
    "\n",
    "d=tuple([1,2,3,4,5]) #Type casting (converting) of list to tuple\n",
    "print(d)"
   ]
  },
  {
   "cell_type": "code",
   "execution_count": 71,
   "metadata": {
    "scrolled": true
   },
   "outputs": [
    {
     "name": "stdout",
     "output_type": "stream",
     "text": [
      "[8, 4, 6]\n",
      "6\n",
      "('mouse', [8, 4, 100], (7, 4, 9), 10)\n",
      "('mouse', [8, 4, 100], (7, 4, 9), 10)\n"
     ]
    }
   ],
   "source": [
    "n_tuple = (\"mouse\",[8,4,6],(7,4,9),10)\n",
    "print(n_tuple[1])\n",
    "print(n_tuple[1][2])\n",
    "\n",
    "n_tuple[1][2]=100 #replacing a list inside a tuple\n",
    "print(n_tuple)\n",
    "\n",
    "#n_tuple[2][1]=0 (will give error  as it is a tuple)\n",
    "\n",
    "#del n_tuple[1] # will throw error\n",
    "print(n_tuple)\n",
    "\n",
    "del n_tuple"
   ]
  },
  {
   "cell_type": "markdown",
   "metadata": {},
   "source": [
    "# SETS{}"
   ]
  },
  {
   "cell_type": "code",
   "execution_count": 77,
   "metadata": {},
   "outputs": [
    {
     "name": "stdout",
     "output_type": "stream",
     "text": [
      "{1, 2, 3, 4, 5, 6, 8, 9}\n",
      "{1, 2, 3, 'Hello', 'Manoj', (1, 2, 4)}\n"
     ]
    }
   ],
   "source": [
    "#Set is an unordered collection of data type that is iterable, mutable and\n",
    "#has no duplicate elements\n",
    "my_set = {1,2,3,4,2,4,5,6,8,9}\n",
    "print(my_set)\n",
    "#sets doesnot take duplicate values\n",
    "my_set = {1,2,1,3,2,\"Hello\",\"Hello\",\"Manoj\",(1,2,4)}\n",
    "print(my_set)"
   ]
  },
  {
   "cell_type": "code",
   "execution_count": null,
   "metadata": {},
   "outputs": [],
   "source": [
    "my_set[0] #will through error as it doesnot support indexing"
   ]
  },
  {
   "cell_type": "code",
   "execution_count": 83,
   "metadata": {},
   "outputs": [
    {
     "name": "stdout",
     "output_type": "stream",
     "text": [
      "{1, 2, (3, 4)}\n"
     ]
    }
   ],
   "source": [
    "#my_set={1,2,[3,4]} list inside set are not allowed as list are mutable\n",
    "my_set={1,2,(3,4)} #tuple inside set are allowed as they are immutable\n",
    "print(my_set)"
   ]
  },
  {
   "cell_type": "code",
   "execution_count": 79,
   "metadata": {},
   "outputs": [
    {
     "name": "stdout",
     "output_type": "stream",
     "text": [
      "<class 'dict'>\n"
     ]
    }
   ],
   "source": [
    "a={} #for creating empty dictionary\n",
    "print(type(a))"
   ]
  },
  {
   "cell_type": "code",
   "execution_count": 80,
   "metadata": {},
   "outputs": [
    {
     "name": "stdout",
     "output_type": "stream",
     "text": [
      "<class 'set'>\n"
     ]
    }
   ],
   "source": [
    "#creating a empty set\n",
    "a = set()\n",
    "print(type(a))"
   ]
  },
  {
   "cell_type": "code",
   "execution_count": 81,
   "metadata": {},
   "outputs": [
    {
     "name": "stdout",
     "output_type": "stream",
     "text": [
      "{1, 3}\n",
      "{8, 1, 3}\n",
      "{1, 3, 4, 5, 6, 8, 12, 15}\n",
      "{(15, 12), 1, 3, 4, 5, 6, 8, 12, 15}\n"
     ]
    }
   ],
   "source": [
    "#adding elements\n",
    "my_set = {1,3}\n",
    "print(my_set)\n",
    "\n",
    "my_set.add(8) #to add a simple element\n",
    "print(my_set)\n",
    "\n",
    "my_set.update([6,4,8],{1,4,5},(15,12)) #just like extend, the update function will \n",
    "                                    #ignore the data type and fetch all the individual elements\n",
    "print(my_set)\n",
    "\n",
    "my_set.update([6,4,8],{1,4,5},((15,12),)) #we did this to get tuple in set ',' is used a tuple cannot have single element\n",
    "print(my_set)"
   ]
  },
  {
   "cell_type": "code",
   "execution_count": 95,
   "metadata": {},
   "outputs": [
    {
     "name": "stdout",
     "output_type": "stream",
     "text": [
      "{1, 3, 4, 5, 6}\n",
      "{1, 3, 4, 5}\n",
      "{1, 3, 4, 5}\n"
     ]
    }
   ],
   "source": [
    "#removing elements\n",
    "my_set = {1,3,4,5,6}\n",
    "print(my_set)\n",
    "\n",
    "my_set.remove(6)\n",
    "print(my_set)\n",
    "\n",
    "#del my_set[2] #will give error as indexing is not preserved in set\n",
    "#print(my_set)"
   ]
  },
  {
   "cell_type": "code",
   "execution_count": 96,
   "metadata": {},
   "outputs": [
    {
     "name": "stdout",
     "output_type": "stream",
     "text": [
      "{1, 2, 3, 4, 5, 6, 7, 8, 9, 10}\n",
      "{1, 2, 3, 4, 5, 6, 7, 8, 9, 10}\n",
      "{4, 5}\n",
      "{4, 5}\n"
     ]
    }
   ],
   "source": [
    "#union and intersection\n",
    "\n",
    "A = {1,2,3,4,5,9}\n",
    "B = {4,5,6,7,8,10}\n",
    "\n",
    "print(A | B) #will give the unique elements\n",
    "print(A.union(B))\n",
    "\n",
    "print(A & B) #will give only the common elements\n",
    "print(A.intersection(B))"
   ]
  },
  {
   "cell_type": "code",
   "execution_count": 83,
   "metadata": {},
   "outputs": [
    {
     "name": "stdout",
     "output_type": "stream",
     "text": [
      "{1, 2, 3, 9}\n",
      "{1, 2, 3, 9}\n",
      "{8, 10, 6, 7}\n",
      "{8, 10, 6, 7}\n"
     ]
    }
   ],
   "source": [
    "#difference elements\n",
    "\n",
    "A = {1,2,3,4,5,9}\n",
    "B = {4,5,6,7,8,10}\n",
    "\n",
    "print(A-B) #will remove the same values present in A\n",
    "print(A.difference(B))\n",
    "print(B.difference(A)) #will remove the same values present in B\n",
    "print(B-A)\n"
   ]
  },
  {
   "cell_type": "markdown",
   "metadata": {},
   "source": [
    "# DICTIONARIES\n",
    "#declaration=dict()  two value is require (If we pass another value more then 2, then error will occur )\n",
    "#{Key:value,K:v}  (before : key and after : we can pass multiple values)\n",
    "#Mixed data type allowed\n",
    "#valued could be repetitive\n",
    "#keys should be unique  (if not it will replace the previous value)\n",
    "#accesing done with keys\n",
    "#It preserves the order which we are passing while making the dictionary\n",
    "#duplicate values are allowed in all datatype except sets\n",
    "#Mutable"
   ]
  },
  {
   "cell_type": "code",
   "execution_count": 9,
   "metadata": {},
   "outputs": [
    {
     "name": "stdout",
     "output_type": "stream",
     "text": [
      "{1: 'A', 2: 'B'}\n",
      "{'name': ['John', 'Nikita', 'Alex'], 'ID': [2, 4, 3]}\n",
      "{'fruit': 'mango', 2: 'mango'}\n"
     ]
    }
   ],
   "source": [
    "my_d = {}\n",
    "\n",
    "my_d = {1:'A', 2:'B'}\n",
    "print(my_d)\n",
    "\n",
    "my_d = {'name' : ['John', \"Nikita\", \"Alex\"], \"ID\" : [2,4,3]}\n",
    "print(my_d)\n",
    "\n",
    "my_d = dict([(\"fruit\", 'apple'), (2,'mango'),(\"fruit\",\"mango\")])\n",
    "print(my_d)"
   ]
  },
  {
   "cell_type": "code",
   "execution_count": 16,
   "metadata": {},
   "outputs": [
    {
     "name": "stdout",
     "output_type": "stream",
     "text": [
      "29\n"
     ]
    }
   ],
   "source": [
    "#accessing values\n",
    "my_d = {'name':'manoj', 'age' : 29}\n",
    "print(my_d['age'])\n",
    "\n",
    "#print(my_d['add']) will through error as key not defined"
   ]
  },
  {
   "cell_type": "code",
   "execution_count": 18,
   "metadata": {},
   "outputs": [
    {
     "name": "stdout",
     "output_type": "stream",
     "text": [
      "{'name': 'manoj', 'age': 20, 'address': 'mumbai'}\n",
      "{'name': 'manoj', 'age': 20, 'address': 'mumbai'}\n"
     ]
    }
   ],
   "source": [
    "#updating dictionary\n",
    "my_d['age'] = 20\n",
    "print(my_d)\n",
    "\n",
    "my_d['address'] = 'mumbai'\n",
    "print(my_d)"
   ]
  },
  {
   "cell_type": "code",
   "execution_count": 87,
   "metadata": {},
   "outputs": [
    {
     "name": "stdout",
     "output_type": "stream",
     "text": [
      "{1: 1, 2: 4, 3: 9, 7: 49, 5: 25}\n",
      "{1: 1, 2: 4, 3: 9, 7: 49}\n",
      "{1: 1, 2: 4, 3: 9, 7: 49}\n"
     ]
    }
   ],
   "source": [
    "#deleting\n",
    "squares = {1:1, 2:4, 3:9, 7:49, 5:25}\n",
    "print(squares)\n",
    "\n",
    "del squares[5] #will delete the 5th key value pair\n",
    "print(squares)\n",
    "\n",
    "#squares.clear() #willdelete the entire dictionary\n",
    "print(squares)\n"
   ]
  },
  {
   "cell_type": "code",
   "execution_count": 88,
   "metadata": {},
   "outputs": [
    {
     "data": {
      "text/plain": [
       "dict_keys([1, 2, 3, 7])"
      ]
     },
     "execution_count": 88,
     "metadata": {},
     "output_type": "execute_result"
    }
   ],
   "source": [
    "#accessing the dictionary\n",
    "squares.keys()"
   ]
  },
  {
   "cell_type": "code",
   "execution_count": 89,
   "metadata": {},
   "outputs": [
    {
     "data": {
      "text/plain": [
       "dict_values([1, 4, 9, 49])"
      ]
     },
     "execution_count": 89,
     "metadata": {},
     "output_type": "execute_result"
    }
   ],
   "source": [
    "squares.values()"
   ]
  },
  {
   "cell_type": "code",
   "execution_count": 27,
   "metadata": {},
   "outputs": [
    {
     "name": "stdout",
     "output_type": "stream",
     "text": [
      "{1: 10, 2: 20, 3: 30, 4: 40, 5: 50, 6: 60}\n"
     ]
    }
   ],
   "source": [
    "#merging the vlues of two different data structures by zip()\n",
    "A = [1,2,3,4,5,6]\n",
    "B=(10,20,30,40,50,60)\n",
    "C = dict(zip(A,B))\n",
    "print(C)"
   ]
  },
  {
   "cell_type": "code",
   "execution_count": null,
   "metadata": {},
   "outputs": [],
   "source": []
  }
 ],
 "metadata": {
  "kernelspec": {
   "display_name": "Python 3",
   "language": "python",
   "name": "python3"
  },
  "language_info": {
   "codemirror_mode": {
    "name": "ipython",
    "version": 3
   },
   "file_extension": ".py",
   "mimetype": "text/x-python",
   "name": "python",
   "nbconvert_exporter": "python",
   "pygments_lexer": "ipython3",
   "version": "3.7.3"
  }
 },
 "nbformat": 4,
 "nbformat_minor": 2
}
