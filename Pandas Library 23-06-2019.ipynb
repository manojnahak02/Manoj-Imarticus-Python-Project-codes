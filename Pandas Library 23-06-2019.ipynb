{
 "cells": [
  {
   "cell_type": "code",
   "execution_count": 12,
   "metadata": {},
   "outputs": [],
   "source": [
    "import pandas as pd"
   ]
  },
  {
   "cell_type": "markdown",
   "metadata": {},
   "source": [
    "# SERIES"
   ]
  },
  {
   "cell_type": "code",
   "execution_count": 13,
   "metadata": {},
   "outputs": [
    {
     "name": "stdout",
     "output_type": "stream",
     "text": [
      "[101 102 103 104]\n",
      "\n",
      "0    101\n",
      "1    102\n",
      "2    103\n",
      "3    104\n",
      "dtype: int32\n",
      "\n",
      "102\n",
      "0    101\n",
      "1    100\n",
      "2    103\n",
      "3    104\n",
      "4    200\n",
      "dtype: int64\n"
     ]
    }
   ],
   "source": [
    "import numpy as np\n",
    "data = np.array([101,102,103,104])\n",
    "s = pd.Series(data)\n",
    "print(data) \n",
    "print()\n",
    "print(s)\n",
    "print()\n",
    "\n",
    "print(s[1]) #accessing the value of index no 1\n",
    "s[1]=100 #replacing the value of index no 1\n",
    "s[4]=200 #adding new value\n",
    "print(s)"
   ]
  },
  {
   "cell_type": "code",
   "execution_count": 14,
   "metadata": {},
   "outputs": [
    {
     "name": "stdout",
     "output_type": "stream",
     "text": [
      "a    101\n",
      "b    100\n",
      "c    103\n",
      "d    104\n",
      "dtype: int32\n",
      "100\n",
      "100\n"
     ]
    }
   ],
   "source": [
    "s = pd.Series(data, index = [\"a\",\"b\",\"c\",\"d\"]) #assigning row labels to index no's, by keeping both index no and row labels\n",
    "print(s)\n",
    "print(s[\"b\"]) #accessing through row label\n",
    "print(s[1]) #accessing through index no"
   ]
  },
  {
   "cell_type": "code",
   "execution_count": 15,
   "metadata": {},
   "outputs": [
    {
     "name": "stdout",
     "output_type": "stream",
     "text": [
      "1001    101\n",
      "1002    100\n",
      "1003    103\n",
      "1004    104\n",
      "dtype: int32\n",
      "100\n"
     ]
    }
   ],
   "source": [
    "list1=np.arange(1001,1005,1) #1 is used for incrementing the value by 1\n",
    "s=pd.Series(data,index=list1)\n",
    "print(s)\n",
    "print(s[1002])\n",
    "#print(s[1]) #it will through error as index no's are replaced"
   ]
  },
  {
   "cell_type": "code",
   "execution_count": 16,
   "metadata": {},
   "outputs": [
    {
     "name": "stdout",
     "output_type": "stream",
     "text": [
      "a    0\n",
      "b    1\n",
      "c    2\n",
      "dtype: int64\n",
      "0\n",
      "\n",
      "b    1\n",
      "c    2\n",
      "dtype: int64\n"
     ]
    }
   ],
   "source": [
    "data = {'a':0, 'b':1, 'c':2}\n",
    "s = pd.Series(data)\n",
    "print(s)\n",
    "\n",
    "print(s['a'])\n",
    "print()\n",
    "print(s[-2:]) #-2 is the second last data"
   ]
  },
  {
   "cell_type": "markdown",
   "metadata": {},
   "source": [
    "# DATA FRAMES"
   ]
  },
  {
   "cell_type": "code",
   "execution_count": 17,
   "metadata": {},
   "outputs": [
    {
     "name": "stdout",
     "output_type": "stream",
     "text": [
      "     Name  Age\n",
      "0    Amit   40\n",
      "1  Nikita   23\n",
      "2   Clara   33\n"
     ]
    }
   ],
   "source": [
    "#indexed data frame from data list\n",
    "data = [['Amit',40],['Nikita',23],['Clara',33]]\n",
    "df = pd.DataFrame(data,columns=['Name','Age']) #assigning column names while creating data frame\n",
    "print(df)\n",
    "\n",
    "#assigning column names after creating the data frame\n",
    "#df.columns=[\"Name\",\"Age\"]\n",
    "#print(df)"
   ]
  },
  {
   "cell_type": "code",
   "execution_count": 18,
   "metadata": {},
   "outputs": [
    {
     "name": "stdout",
     "output_type": "stream",
     "text": [
      "     Name  Age\n",
      "0    Amit   10\n",
      "1  Nikita   20\n",
      "2   Clara   30\n",
      "      Name  Age\n",
      "E1    Amit   10\n",
      "E2  Nikita   20\n",
      "E3   Clara   30\n"
     ]
    }
   ],
   "source": [
    "#indexed data frame from dict\n",
    "data={'Name':['Amit','Nikita','Clara'],'Age':[10,20,30]}\n",
    "df=pd.DataFrame(data)\n",
    "print(df)\n",
    "df=pd.DataFrame(data, index=['E1','E2','E3'])\n",
    "print(df)"
   ]
  },
  {
   "cell_type": "code",
   "execution_count": 19,
   "metadata": {},
   "outputs": [
    {
     "data": {
      "text/plain": [
       "E1      Amit\n",
       "E2    Nikita\n",
       "E3     Clara\n",
       "Name: Name, dtype: object"
      ]
     },
     "execution_count": 19,
     "metadata": {},
     "output_type": "execute_result"
    }
   ],
   "source": [
    "#accessing the data frames\n",
    "df[\"Name\"]"
   ]
  },
  {
   "cell_type": "code",
   "execution_count": 20,
   "metadata": {},
   "outputs": [
    {
     "data": {
      "text/html": [
       "<div>\n",
       "<style scoped>\n",
       "    .dataframe tbody tr th:only-of-type {\n",
       "        vertical-align: middle;\n",
       "    }\n",
       "\n",
       "    .dataframe tbody tr th {\n",
       "        vertical-align: top;\n",
       "    }\n",
       "\n",
       "    .dataframe thead th {\n",
       "        text-align: right;\n",
       "    }\n",
       "</style>\n",
       "<table border=\"1\" class=\"dataframe\">\n",
       "  <thead>\n",
       "    <tr style=\"text-align: right;\">\n",
       "      <th></th>\n",
       "      <th>Name</th>\n",
       "      <th>Age</th>\n",
       "    </tr>\n",
       "  </thead>\n",
       "  <tbody>\n",
       "    <tr>\n",
       "      <th>E1</th>\n",
       "      <td>Amit</td>\n",
       "      <td>10</td>\n",
       "    </tr>\n",
       "    <tr>\n",
       "      <th>E2</th>\n",
       "      <td>Nikita</td>\n",
       "      <td>20</td>\n",
       "    </tr>\n",
       "    <tr>\n",
       "      <th>E3</th>\n",
       "      <td>Clara</td>\n",
       "      <td>30</td>\n",
       "    </tr>\n",
       "  </tbody>\n",
       "</table>\n",
       "</div>"
      ],
      "text/plain": [
       "      Name  Age\n",
       "E1    Amit   10\n",
       "E2  Nikita   20\n",
       "E3   Clara   30"
      ]
     },
     "execution_count": 20,
     "metadata": {},
     "output_type": "execute_result"
    }
   ],
   "source": [
    "df[[\"Name\",\"Age\"]]"
   ]
  },
  {
   "cell_type": "code",
   "execution_count": 21,
   "metadata": {},
   "outputs": [
    {
     "data": {
      "text/html": [
       "<div>\n",
       "<style scoped>\n",
       "    .dataframe tbody tr th:only-of-type {\n",
       "        vertical-align: middle;\n",
       "    }\n",
       "\n",
       "    .dataframe tbody tr th {\n",
       "        vertical-align: top;\n",
       "    }\n",
       "\n",
       "    .dataframe thead th {\n",
       "        text-align: right;\n",
       "    }\n",
       "</style>\n",
       "<table border=\"1\" class=\"dataframe\">\n",
       "  <thead>\n",
       "    <tr style=\"text-align: right;\">\n",
       "      <th></th>\n",
       "      <th>Name</th>\n",
       "      <th>Age</th>\n",
       "      <th>address</th>\n",
       "    </tr>\n",
       "  </thead>\n",
       "  <tbody>\n",
       "    <tr>\n",
       "      <th>E1</th>\n",
       "      <td>Amit</td>\n",
       "      <td>10</td>\n",
       "      <td>Mumbai</td>\n",
       "    </tr>\n",
       "    <tr>\n",
       "      <th>E2</th>\n",
       "      <td>Nikita</td>\n",
       "      <td>20</td>\n",
       "      <td>Pune</td>\n",
       "    </tr>\n",
       "    <tr>\n",
       "      <th>E3</th>\n",
       "      <td>Clara</td>\n",
       "      <td>30</td>\n",
       "      <td>Mumbai</td>\n",
       "    </tr>\n",
       "  </tbody>\n",
       "</table>\n",
       "</div>"
      ],
      "text/plain": [
       "      Name  Age address\n",
       "E1    Amit   10  Mumbai\n",
       "E2  Nikita   20    Pune\n",
       "E3   Clara   30  Mumbai"
      ]
     },
     "execution_count": 21,
     "metadata": {},
     "output_type": "execute_result"
    }
   ],
   "source": [
    "#adding a column\n",
    "df['address']=[\"Mumbai\",\"Pune\",\"Mumbai\"]\n",
    "df"
   ]
  },
  {
   "cell_type": "code",
   "execution_count": 22,
   "metadata": {},
   "outputs": [
    {
     "data": {
      "text/html": [
       "<div>\n",
       "<style scoped>\n",
       "    .dataframe tbody tr th:only-of-type {\n",
       "        vertical-align: middle;\n",
       "    }\n",
       "\n",
       "    .dataframe tbody tr th {\n",
       "        vertical-align: top;\n",
       "    }\n",
       "\n",
       "    .dataframe thead th {\n",
       "        text-align: right;\n",
       "    }\n",
       "</style>\n",
       "<table border=\"1\" class=\"dataframe\">\n",
       "  <thead>\n",
       "    <tr style=\"text-align: right;\">\n",
       "      <th></th>\n",
       "      <th>Name</th>\n",
       "      <th>address</th>\n",
       "      <th>Age</th>\n",
       "    </tr>\n",
       "  </thead>\n",
       "  <tbody>\n",
       "    <tr>\n",
       "      <th>E1</th>\n",
       "      <td>Amit</td>\n",
       "      <td>Mumbai</td>\n",
       "      <td>10</td>\n",
       "    </tr>\n",
       "    <tr>\n",
       "      <th>E2</th>\n",
       "      <td>Nikita</td>\n",
       "      <td>Pune</td>\n",
       "      <td>20</td>\n",
       "    </tr>\n",
       "    <tr>\n",
       "      <th>E3</th>\n",
       "      <td>Clara</td>\n",
       "      <td>Mumbai</td>\n",
       "      <td>30</td>\n",
       "    </tr>\n",
       "  </tbody>\n",
       "</table>\n",
       "</div>"
      ],
      "text/plain": [
       "      Name address  Age\n",
       "E1    Amit  Mumbai   10\n",
       "E2  Nikita    Pune   20\n",
       "E3   Clara  Mumbai   30"
      ]
     },
     "execution_count": 22,
     "metadata": {},
     "output_type": "execute_result"
    }
   ],
   "source": [
    "#realining the variable/column names\n",
    "df=df[[\"Name\",\"address\",\"Age\"]]\n",
    "df"
   ]
  },
  {
   "cell_type": "code",
   "execution_count": 23,
   "metadata": {},
   "outputs": [
    {
     "name": "stderr",
     "output_type": "stream",
     "text": [
      "C:\\ProgramData\\Anaconda3\\lib\\site-packages\\ipykernel_launcher.py:2: SettingWithCopyWarning: \n",
      "A value is trying to be set on a copy of a slice from a DataFrame.\n",
      "Try using .loc[row_indexer,col_indexer] = value instead\n",
      "\n",
      "See the caveats in the documentation: http://pandas.pydata.org/pandas-docs/stable/indexing.html#indexing-view-versus-copy\n",
      "  \n"
     ]
    },
    {
     "name": "stdout",
     "output_type": "stream",
     "text": [
      "      Name address  Age  Newcol\n",
      "E1    Amit  Mumbai   10       5\n",
      "E2  Nikita    Pune   20      10\n",
      "E3   Clara  Mumbai   30      12\n",
      "      Name address  Age  Newcol  Revised_col\n",
      "E1    Amit  Mumbai   10       5           10\n",
      "E2  Nikita    Pune   20      10           20\n",
      "E3   Clara  Mumbai   30      12           24\n"
     ]
    },
    {
     "name": "stderr",
     "output_type": "stream",
     "text": [
      "C:\\ProgramData\\Anaconda3\\lib\\site-packages\\ipykernel_launcher.py:6: SettingWithCopyWarning: \n",
      "A value is trying to be set on a copy of a slice from a DataFrame.\n",
      "Try using .loc[row_indexer,col_indexer] = value instead\n",
      "\n",
      "See the caveats in the documentation: http://pandas.pydata.org/pandas-docs/stable/indexing.html#indexing-view-versus-copy\n",
      "  \n"
     ]
    }
   ],
   "source": [
    "#adding two new columns\n",
    "df[\"Newcol\"]=[5,10,12]\n",
    "print(df)\n",
    "\n",
    "#column added through calculation\n",
    "df[\"Revised_col\"]=df[\"Newcol\"]*2\n",
    "print(df)"
   ]
  },
  {
   "cell_type": "code",
   "execution_count": 24,
   "metadata": {},
   "outputs": [
    {
     "name": "stdout",
     "output_type": "stream",
     "text": [
      "      Name address  Age  Revised_col\n",
      "E1    Amit  Mumbai   10           10\n",
      "E2  Nikita    Pune   20           20\n",
      "E3   Clara  Mumbai   30           24\n"
     ]
    }
   ],
   "source": [
    "#deleting a column\n",
    "del df[\"Newcol\"]\n",
    "print(df)"
   ]
  },
  {
   "cell_type": "code",
   "execution_count": 25,
   "metadata": {},
   "outputs": [
    {
     "name": "stdout",
     "output_type": "stream",
     "text": [
      "      Name address  Age\n",
      "E2  Nikita    Pune   20\n",
      "E3   Clara  Mumbai   30\n"
     ]
    }
   ],
   "source": [
    "#droping row and column\n",
    "df=df.drop('E1')\n",
    "df=df.drop('Revised_col', axis=1) #axis = 1 means column (and 0 means rows)\n",
    "print(df)"
   ]
  },
  {
   "cell_type": "code",
   "execution_count": 38,
   "metadata": {},
   "outputs": [
    {
     "name": "stdout",
     "output_type": "stream",
     "text": [
      "Name       Nikita\n",
      "address      Pune\n",
      "Age            20\n",
      "Name: E2, dtype: object\n",
      "\n",
      "      Name address  Age\n",
      "E2  Nikita    Pune   20\n",
      "E3   Clara  Mumbai   30\n",
      "\n"
     ]
    }
   ],
   "source": [
    "#accessing data elements using indexes and labels\n",
    "#loc is used for row labels i.e Selecting data by label or by a conditional statment (.loc)\n",
    "\n",
    "#iloc is used for index no's i.e Selecting data by row numbers (.iloc)\n",
    "\n",
    "#df.loc[inclusive:inclusive]\n",
    "print(df.loc['E2'])\n",
    "print()\n",
    "print(df.loc[\"E2\":\"E3\"])\n",
    "print()"
   ]
  },
  {
   "cell_type": "code",
   "execution_count": 48,
   "metadata": {},
   "outputs": [
    {
     "name": "stdout",
     "output_type": "stream",
     "text": [
      "      Name address  Age\n",
      "E2  Nikita    Pune   20\n",
      "E3   Clara  Mumbai   30\n",
      "\n",
      "   address  Age\n",
      "E2    Pune   20\n",
      "E3  Mumbai   30\n",
      "\n",
      "   address  Age\n",
      "E2    Pune   20\n",
      "E3  Mumbai   30\n"
     ]
    }
   ],
   "source": [
    "#df.iloc[inclusive:exclusive]\n",
    "print(df.iloc[0:2]) #selecting first two rows\n",
    "print()\n",
    "print(df.loc[\"E2\":\"E3\",[\"address\",\"Age\"]])\n",
    "print()\n",
    "print(df.iloc[:,[1,2]]) #all rows with "
   ]
  },
  {
   "cell_type": "code",
   "execution_count": 37,
   "metadata": {},
   "outputs": [
    {
     "name": "stdout",
     "output_type": "stream",
     "text": [
      "Done\n"
     ]
    }
   ],
   "source": [
    "#saving dataframe to a file\n",
    "df.to_csv(r'C:\\Users\\Manoj Nahak\\Desktop\\sampledf.csv', index = True, header=True) #.txt as well\n",
    "\n",
    "df.to_excel(r'C:\\Users\\Manoj Nahak\\Desktop\\sampledf.xlsx', index=False, header=True)\n",
    "print('Done')"
   ]
  },
  {
   "cell_type": "code",
   "execution_count": 40,
   "metadata": {},
   "outputs": [
    {
     "name": "stdout",
     "output_type": "stream",
     "text": [
      "      Name address  Age\n",
      "E2  Nikita    Pune   20\n",
      "E3   Clara  Mumbai   30\n"
     ]
    }
   ],
   "source": [
    "#reading df from a CSV file\n",
    "df2 = pd.read_csv(r'C:\\Users\\Manoj Nahak\\Desktop\\sampledf.csv', index_col=0, header=0)\n",
    "print(df2)"
   ]
  },
  {
   "cell_type": "code",
   "execution_count": 41,
   "metadata": {},
   "outputs": [
    {
     "name": "stdout",
     "output_type": "stream",
     "text": [
      "     Name address  Age\n",
      "0  Nikita    Pune   20\n",
      "1   Clara  Mumbai   30\n"
     ]
    }
   ],
   "source": [
    "#reading df from a xlsx file\n",
    "df3=pd.read_excel(r'C:\\Users\\Manoj Nahak\\Desktop\\sampledf.xlsx')\n",
    "print(df3)"
   ]
  },
  {
   "cell_type": "code",
   "execution_count": 45,
   "metadata": {},
   "outputs": [
    {
     "name": "stdout",
     "output_type": "stream",
     "text": [
      "<class 'pandas.core.frame.DataFrame'>\n",
      "Index: 2 entries, E2 to E3\n",
      "Data columns (total 3 columns):\n",
      "Name       2 non-null object\n",
      "address    2 non-null object\n",
      "Age        2 non-null int64\n",
      "dtypes: int64(1), object(2)\n",
      "memory usage: 144.0+ bytes\n"
     ]
    }
   ],
   "source": [
    "#4 common data types, Int, Float for numerical\n",
    "# and for character, string it will be object\n",
    "#preparing the data\n",
    "#print(df.dtypes)\n",
    "#print(df.Age.dtype)\n",
    "#print(df.shape)\n",
    "df.info()"
   ]
  },
  {
   "cell_type": "code",
   "execution_count": 46,
   "metadata": {},
   "outputs": [
    {
     "name": "stderr",
     "output_type": "stream",
     "text": [
      "C:\\ProgramData\\Anaconda3\\lib\\site-packages\\ipykernel_launcher.py:2: FutureWarning: set_value is deprecated and will be removed in a future release. Please use .at[] or .iat[] accessors instead\n",
      "  \n",
      "C:\\ProgramData\\Anaconda3\\lib\\site-packages\\ipykernel_launcher.py:3: FutureWarning: set_value is deprecated and will be removed in a future release. Please use .at[] or .iat[] accessors instead\n",
      "  This is separate from the ipykernel package so we can avoid doing imports until\n"
     ]
    },
    {
     "data": {
      "text/html": [
       "<div>\n",
       "<style scoped>\n",
       "    .dataframe tbody tr th:only-of-type {\n",
       "        vertical-align: middle;\n",
       "    }\n",
       "\n",
       "    .dataframe tbody tr th {\n",
       "        vertical-align: top;\n",
       "    }\n",
       "\n",
       "    .dataframe thead th {\n",
       "        text-align: right;\n",
       "    }\n",
       "</style>\n",
       "<table border=\"1\" class=\"dataframe\">\n",
       "  <thead>\n",
       "    <tr style=\"text-align: right;\">\n",
       "      <th></th>\n",
       "      <th>Name</th>\n",
       "      <th>address</th>\n",
       "      <th>Age</th>\n",
       "    </tr>\n",
       "  </thead>\n",
       "  <tbody>\n",
       "    <tr>\n",
       "      <th>E2</th>\n",
       "      <td>Rajesh</td>\n",
       "      <td>Pune</td>\n",
       "      <td>40.0</td>\n",
       "    </tr>\n",
       "    <tr>\n",
       "      <th>E3</th>\n",
       "      <td>Clara</td>\n",
       "      <td>Mumbai</td>\n",
       "      <td>30.0</td>\n",
       "    </tr>\n",
       "    <tr>\n",
       "      <th>E1</th>\n",
       "      <td>Ramesh</td>\n",
       "      <td>NaN</td>\n",
       "      <td>29.0</td>\n",
       "    </tr>\n",
       "  </tbody>\n",
       "</table>\n",
       "</div>"
      ],
      "text/plain": [
       "      Name address   Age\n",
       "E2  Rajesh    Pune  40.0\n",
       "E3   Clara  Mumbai  30.0\n",
       "E1  Ramesh     NaN  29.0"
      ]
     },
     "execution_count": 46,
     "metadata": {},
     "output_type": "execute_result"
    }
   ],
   "source": [
    "#updating the data\n",
    "df.set_value('E2',['Name','Age'],[\"Rajesh\",40]) #replacing data\n",
    "df.set_value('E1',['Name','Age'],[\"Ramesh\",29]) #adding a new row"
   ]
  },
  {
   "cell_type": "code",
   "execution_count": 49,
   "metadata": {},
   "outputs": [
    {
     "data": {
      "text/html": [
       "<div>\n",
       "<style scoped>\n",
       "    .dataframe tbody tr th:only-of-type {\n",
       "        vertical-align: middle;\n",
       "    }\n",
       "\n",
       "    .dataframe tbody tr th {\n",
       "        vertical-align: top;\n",
       "    }\n",
       "\n",
       "    .dataframe thead th {\n",
       "        text-align: right;\n",
       "    }\n",
       "</style>\n",
       "<table border=\"1\" class=\"dataframe\">\n",
       "  <thead>\n",
       "    <tr style=\"text-align: right;\">\n",
       "      <th></th>\n",
       "      <th>Name</th>\n",
       "      <th>address</th>\n",
       "      <th>Age</th>\n",
       "    </tr>\n",
       "  </thead>\n",
       "  <tbody>\n",
       "    <tr>\n",
       "      <th>E2</th>\n",
       "      <td>Amitabh</td>\n",
       "      <td>Lucknow</td>\n",
       "      <td>40.0</td>\n",
       "    </tr>\n",
       "    <tr>\n",
       "      <th>E3</th>\n",
       "      <td>Clara</td>\n",
       "      <td>Mumbai</td>\n",
       "      <td>30.0</td>\n",
       "    </tr>\n",
       "    <tr>\n",
       "      <th>E1</th>\n",
       "      <td>Ramesh</td>\n",
       "      <td>NaN</td>\n",
       "      <td>29.0</td>\n",
       "    </tr>\n",
       "  </tbody>\n",
       "</table>\n",
       "</div>"
      ],
      "text/plain": [
       "       Name  address   Age\n",
       "E2  Amitabh  Lucknow  40.0\n",
       "E3    Clara   Mumbai  30.0\n",
       "E1   Ramesh      NaN  29.0"
      ]
     },
     "execution_count": 49,
     "metadata": {},
     "output_type": "execute_result"
    }
   ],
   "source": [
    "#updating the values through condition\n",
    "df.loc[(df.Name == \"Rajesh\")&(df.address == \"Pune\"), [\"address\", \"Name\"]] = [\"Lucknow\",\"Amitabh\"]\n",
    "df"
   ]
  },
  {
   "cell_type": "code",
   "execution_count": 53,
   "metadata": {},
   "outputs": [],
   "source": [
    "df.loc[(df.Name==\"Ramesh\"),[\"address\"]]=\"Mumbai\""
   ]
  },
  {
   "cell_type": "code",
   "execution_count": 54,
   "metadata": {},
   "outputs": [
    {
     "data": {
      "text/html": [
       "<div>\n",
       "<style scoped>\n",
       "    .dataframe tbody tr th:only-of-type {\n",
       "        vertical-align: middle;\n",
       "    }\n",
       "\n",
       "    .dataframe tbody tr th {\n",
       "        vertical-align: top;\n",
       "    }\n",
       "\n",
       "    .dataframe thead th {\n",
       "        text-align: right;\n",
       "    }\n",
       "</style>\n",
       "<table border=\"1\" class=\"dataframe\">\n",
       "  <thead>\n",
       "    <tr style=\"text-align: right;\">\n",
       "      <th></th>\n",
       "      <th>Name</th>\n",
       "      <th>address</th>\n",
       "      <th>Age</th>\n",
       "    </tr>\n",
       "  </thead>\n",
       "  <tbody>\n",
       "    <tr>\n",
       "      <th>E1</th>\n",
       "      <td>Ramesh</td>\n",
       "      <td>Mumbai</td>\n",
       "      <td>29.0</td>\n",
       "    </tr>\n",
       "    <tr>\n",
       "      <th>E3</th>\n",
       "      <td>Clara</td>\n",
       "      <td>Mumbai</td>\n",
       "      <td>30.0</td>\n",
       "    </tr>\n",
       "    <tr>\n",
       "      <th>E2</th>\n",
       "      <td>Amitabh</td>\n",
       "      <td>Lucknow</td>\n",
       "      <td>40.0</td>\n",
       "    </tr>\n",
       "  </tbody>\n",
       "</table>\n",
       "</div>"
      ],
      "text/plain": [
       "       Name  address   Age\n",
       "E1   Ramesh   Mumbai  29.0\n",
       "E3    Clara   Mumbai  30.0\n",
       "E2  Amitabh  Lucknow  40.0"
      ]
     },
     "execution_count": 54,
     "metadata": {},
     "output_type": "execute_result"
    }
   ],
   "source": [
    "df.sort_values(['address','Name'],ascending=False) #sorting in descending"
   ]
  },
  {
   "cell_type": "code",
   "execution_count": 57,
   "metadata": {},
   "outputs": [
    {
     "data": {
      "text/html": [
       "<div>\n",
       "<style scoped>\n",
       "    .dataframe tbody tr th:only-of-type {\n",
       "        vertical-align: middle;\n",
       "    }\n",
       "\n",
       "    .dataframe tbody tr th {\n",
       "        vertical-align: top;\n",
       "    }\n",
       "\n",
       "    .dataframe thead th {\n",
       "        text-align: right;\n",
       "    }\n",
       "</style>\n",
       "<table border=\"1\" class=\"dataframe\">\n",
       "  <thead>\n",
       "    <tr style=\"text-align: right;\">\n",
       "      <th></th>\n",
       "      <th>Name</th>\n",
       "      <th>address</th>\n",
       "      <th>Age</th>\n",
       "    </tr>\n",
       "  </thead>\n",
       "  <tbody>\n",
       "    <tr>\n",
       "      <th>E1</th>\n",
       "      <td>Ramesh</td>\n",
       "      <td>Mumbai</td>\n",
       "      <td>29.0</td>\n",
       "    </tr>\n",
       "    <tr>\n",
       "      <th>E2</th>\n",
       "      <td>Amitabh</td>\n",
       "      <td>Lucknow</td>\n",
       "      <td>40.0</td>\n",
       "    </tr>\n",
       "    <tr>\n",
       "      <th>E3</th>\n",
       "      <td>Clara</td>\n",
       "      <td>Mumbai</td>\n",
       "      <td>30.0</td>\n",
       "    </tr>\n",
       "  </tbody>\n",
       "</table>\n",
       "</div>"
      ],
      "text/plain": [
       "       Name  address   Age\n",
       "E1   Ramesh   Mumbai  29.0\n",
       "E2  Amitabh  Lucknow  40.0\n",
       "E3    Clara   Mumbai  30.0"
      ]
     },
     "execution_count": 57,
     "metadata": {},
     "output_type": "execute_result"
    }
   ],
   "source": [
    "#sorting through index no (used in time series)\n",
    "df.sort_index(axis=0, ascending=True)"
   ]
  },
  {
   "cell_type": "code",
   "execution_count": null,
   "metadata": {},
   "outputs": [],
   "source": []
  },
  {
   "cell_type": "code",
   "execution_count": null,
   "metadata": {},
   "outputs": [],
   "source": []
  }
 ],
 "metadata": {
  "kernelspec": {
   "display_name": "Python 3",
   "language": "python",
   "name": "python3"
  },
  "language_info": {
   "codemirror_mode": {
    "name": "ipython",
    "version": 3
   },
   "file_extension": ".py",
   "mimetype": "text/x-python",
   "name": "python",
   "nbconvert_exporter": "python",
   "pygments_lexer": "ipython3",
   "version": "3.7.3"
  }
 },
 "nbformat": 4,
 "nbformat_minor": 2
}
